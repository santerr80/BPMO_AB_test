{
 "cells": [
  {
   "cell_type": "code",
   "execution_count": 11,
   "metadata": {},
   "outputs": [
    {
     "name": "stderr",
     "output_type": "stream",
     "text": [
      "qt.qpa.plugin: Could not find the Qt platform plugin \"wayland\" in \"\"\n",
      "/tmp/ipykernel_6642/2644309471.py:24: FutureWarning: \n",
      "\n",
      "Passing `palette` without assigning `hue` is deprecated and will be removed in v0.14.0. Assign the `y` variable to `hue` and set `legend=False` for the same effect.\n",
      "\n",
      "  sns.boxplot(data=daily_data, x='conversion', y='group', orient='h', palette='Set2')\n",
      "MESA: error: ZINK: failed to choose pdev\n",
      "glx: failed to create drisw screen\n"
     ]
    }
   ],
   "source": [
    "\n",
    "import matplotlib\n",
    "matplotlib.use('Qt5Agg')  # Использование Qt5Agg вместо TkAgg\n",
    "import matplotlib.pyplot as plt\n",
    "import pandas as pd\n",
    "import seaborn as sns\n",
    "\n",
    "# Загрузка данных\n",
    "ab_data = pd.read_csv('./data/ab_data.csv')\n",
    "\n",
    "# Преобразование временных меток\n",
    "ab_data['timestamp'] = pd.to_datetime(ab_data['timestamp'], format='%Y-%m-%d')\n",
    "\n",
    "# Группировка данных\n",
    "daily_data = ab_data.groupby(['timestamp', 'group']).agg({\n",
    "    'user_id': 'count',\n",
    "    'converted': 'sum'\n",
    "}).reset_index().rename(columns={'user_id': 'users_count'})\n",
    "\n",
    "# Вычисление конверсии\n",
    "daily_data['conversion'] = daily_data['converted'] / daily_data['users_count'] * 100\n",
    "\n",
    "# Plotting\n",
    "plt.figure(figsize=(10, 6))\n",
    "sns.boxplot(data=daily_data, x='conversion', y='group', orient='h', palette='Set2')\n",
    "\n",
    "# Adding labels and title\n",
    "plt.xlabel('Conversion')\n",
    "plt.ylabel('Group')\n",
    "plt.title('Boxplot of Conversion Rate by Group')\n",
    "\n",
    "# Show plot\n",
    "plt.show()\n"
   ]
  },
  {
   "cell_type": "code",
   "execution_count": 12,
   "metadata": {},
   "outputs": [
    {
     "data": {
      "application/vnd.microsoft.datawrangler.viewer.v0+json": {
       "columns": [
        {
         "name": "group",
         "rawType": "object",
         "type": "string"
        },
        {
         "name": "mean",
         "rawType": "float64",
         "type": "float"
        },
        {
         "name": "median",
         "rawType": "float64",
         "type": "float"
        }
       ],
       "conversionMethod": "pd.DataFrame",
       "ref": "2b5075c9-c7c5-4292-9e7a-c230b14f4959",
       "rows": [
        [
         "A",
         "12.032875901463076",
         "12.024260803639121"
        ],
        [
         "B",
         "11.872697286282133",
         "11.829581507780631"
        ]
       ],
       "shape": {
        "columns": 2,
        "rows": 2
       }
      },
      "text/html": [
       "<div>\n",
       "<style scoped>\n",
       "    .dataframe tbody tr th:only-of-type {\n",
       "        vertical-align: middle;\n",
       "    }\n",
       "\n",
       "    .dataframe tbody tr th {\n",
       "        vertical-align: top;\n",
       "    }\n",
       "\n",
       "    .dataframe thead th {\n",
       "        text-align: right;\n",
       "    }\n",
       "</style>\n",
       "<table border=\"1\" class=\"dataframe\">\n",
       "  <thead>\n",
       "    <tr style=\"text-align: right;\">\n",
       "      <th></th>\n",
       "      <th>mean</th>\n",
       "      <th>median</th>\n",
       "    </tr>\n",
       "    <tr>\n",
       "      <th>group</th>\n",
       "      <th></th>\n",
       "      <th></th>\n",
       "    </tr>\n",
       "  </thead>\n",
       "  <tbody>\n",
       "    <tr>\n",
       "      <th>A</th>\n",
       "      <td>12.032876</td>\n",
       "      <td>12.024261</td>\n",
       "    </tr>\n",
       "    <tr>\n",
       "      <th>B</th>\n",
       "      <td>11.872697</td>\n",
       "      <td>11.829582</td>\n",
       "    </tr>\n",
       "  </tbody>\n",
       "</table>\n",
       "</div>"
      ],
      "text/plain": [
       "            mean     median\n",
       "group                      \n",
       "A      12.032876  12.024261\n",
       "B      11.872697  11.829582"
      ]
     },
     "metadata": {},
     "output_type": "display_data"
    }
   ],
   "source": [
    "conversion_piv = daily_data.groupby('group')['conversion'].agg(\n",
    "    ['mean', 'median']\n",
    ")\n",
    "display(conversion_piv)"
   ]
  },
  {
   "cell_type": "code",
   "execution_count": 13,
   "metadata": {},
   "outputs": [],
   "source": [
    "plt.figure(figsize=(8, 4))\n",
    "sns.lineplot(\n",
    "    data=daily_data,\n",
    "    x='timestamp',\n",
    "    y='conversion',\n",
    "    hue='group')\n",
    "\n",
    "# Adding labels and title\n",
    "plt.xlabel('Conversion')\n",
    "plt.ylabel('Date')\n",
    "plt.title('График конверсии по дням')\n",
    "\n",
    "# Show plot\n",
    "plt.show()\n"
   ]
  },
  {
   "cell_type": "code",
   "execution_count": 14,
   "metadata": {},
   "outputs": [
    {
     "name": "stderr",
     "output_type": "stream",
     "text": [
      "/tmp/ipykernel_6642/906787284.py:4: SettingWithCopyWarning: \n",
      "A value is trying to be set on a copy of a slice from a DataFrame.\n",
      "Try using .loc[row_indexer,col_indexer] = value instead\n",
      "\n",
      "See the caveats in the documentation: https://pandas.pydata.org/pandas-docs/stable/user_guide/indexing.html#returning-a-view-versus-a-copy\n",
      "  daily_data_a.loc[:, 'cum_users_count'] = daily_data_a['users_count'].cumsum()\n"
     ]
    },
    {
     "data": {
      "application/vnd.microsoft.datawrangler.viewer.v0+json": {
       "columns": [
        {
         "name": "index",
         "rawType": "int64",
         "type": "integer"
        },
        {
         "name": "timestamp",
         "rawType": "datetime64[ns]",
         "type": "datetime"
        },
        {
         "name": "users_count",
         "rawType": "int64",
         "type": "integer"
        },
        {
         "name": "cum_users_count",
         "rawType": "int64",
         "type": "integer"
        }
       ],
       "conversionMethod": "pd.DataFrame",
       "ref": "2311c8b5-33e5-48a5-be5d-db577a72d60f",
       "rows": [
        [
         "0",
         "2017-01-02 00:00:00",
         "2851",
         "2851"
        ],
        [
         "2",
         "2017-01-03 00:00:00",
         "6584",
         "9435"
        ],
        [
         "4",
         "2017-01-04 00:00:00",
         "6573",
         "16008"
        ],
        [
         "6",
         "2017-01-05 00:00:00",
         "6419",
         "22427"
        ],
        [
         "8",
         "2017-01-06 00:00:00",
         "6604",
         "29031"
        ]
       ],
       "shape": {
        "columns": 3,
        "rows": 5
       }
      },
      "text/html": [
       "<div>\n",
       "<style scoped>\n",
       "    .dataframe tbody tr th:only-of-type {\n",
       "        vertical-align: middle;\n",
       "    }\n",
       "\n",
       "    .dataframe tbody tr th {\n",
       "        vertical-align: top;\n",
       "    }\n",
       "\n",
       "    .dataframe thead th {\n",
       "        text-align: right;\n",
       "    }\n",
       "</style>\n",
       "<table border=\"1\" class=\"dataframe\">\n",
       "  <thead>\n",
       "    <tr style=\"text-align: right;\">\n",
       "      <th></th>\n",
       "      <th>timestamp</th>\n",
       "      <th>users_count</th>\n",
       "      <th>cum_users_count</th>\n",
       "    </tr>\n",
       "  </thead>\n",
       "  <tbody>\n",
       "    <tr>\n",
       "      <th>0</th>\n",
       "      <td>2017-01-02</td>\n",
       "      <td>2851</td>\n",
       "      <td>2851</td>\n",
       "    </tr>\n",
       "    <tr>\n",
       "      <th>2</th>\n",
       "      <td>2017-01-03</td>\n",
       "      <td>6584</td>\n",
       "      <td>9435</td>\n",
       "    </tr>\n",
       "    <tr>\n",
       "      <th>4</th>\n",
       "      <td>2017-01-04</td>\n",
       "      <td>6573</td>\n",
       "      <td>16008</td>\n",
       "    </tr>\n",
       "    <tr>\n",
       "      <th>6</th>\n",
       "      <td>2017-01-05</td>\n",
       "      <td>6419</td>\n",
       "      <td>22427</td>\n",
       "    </tr>\n",
       "    <tr>\n",
       "      <th>8</th>\n",
       "      <td>2017-01-06</td>\n",
       "      <td>6604</td>\n",
       "      <td>29031</td>\n",
       "    </tr>\n",
       "  </tbody>\n",
       "</table>\n",
       "</div>"
      ],
      "text/plain": [
       "   timestamp  users_count  cum_users_count\n",
       "0 2017-01-02         2851             2851\n",
       "2 2017-01-03         6584             9435\n",
       "4 2017-01-04         6573            16008\n",
       "6 2017-01-05         6419            22427\n",
       "8 2017-01-06         6604            29031"
      ]
     },
     "metadata": {},
     "output_type": "display_data"
    }
   ],
   "source": [
    "# выделяем данные группы А\n",
    "daily_data_a = daily_data[daily_data['group'] == 'A']\n",
    "# считаем кумулятивное количество посетителей\n",
    "daily_data_a.loc[:, 'cum_users_count'] = daily_data_a['users_count'].cumsum()\n",
    "# выводим время, количество посетителей и кумулятивное количество посетителей\n",
    "display(daily_data_a[['timestamp', 'users_count', 'cum_users_count']].head())"
   ]
  },
  {
   "cell_type": "code",
   "execution_count": 15,
   "metadata": {},
   "outputs": [
    {
     "data": {
      "application/vnd.microsoft.datawrangler.viewer.v0+json": {
       "columns": [
        {
         "name": "index",
         "rawType": "int64",
         "type": "integer"
        },
        {
         "name": "timestamp",
         "rawType": "datetime64[ns]",
         "type": "datetime"
        },
        {
         "name": "group",
         "rawType": "object",
         "type": "string"
        },
        {
         "name": "users_count",
         "rawType": "int64",
         "type": "integer"
        },
        {
         "name": "converted",
         "rawType": "int64",
         "type": "integer"
        },
        {
         "name": "conversion",
         "rawType": "float64",
         "type": "float"
        },
        {
         "name": "cum_users_count",
         "rawType": "int64",
         "type": "integer"
        },
        {
         "name": "cum_converted",
         "rawType": "int64",
         "type": "integer"
        },
        {
         "name": "cum_conversion",
         "rawType": "float64",
         "type": "float"
        }
       ],
       "conversionMethod": "pd.DataFrame",
       "ref": "1b43b2c3-062d-496c-8d7d-faf18aa0edd3",
       "rows": [
        [
         "0",
         "2017-01-02 00:00:00",
         "A",
         "2851",
         "357",
         "12.52192213258506",
         "2851",
         "357",
         "12.52192213258506"
        ],
        [
         "1",
         "2017-01-02 00:00:00",
         "B",
         "2848",
         "339",
         "11.90308988764045",
         "2848",
         "339",
         "11.90308988764045"
        ],
        [
         "2",
         "2017-01-03 00:00:00",
         "A",
         "6584",
         "749",
         "11.376063183475091",
         "9435",
         "1106",
         "11.722310545839958"
        ],
        [
         "3",
         "2017-01-03 00:00:00",
         "B",
         "6620",
         "754",
         "11.389728096676738",
         "9468",
         "1093",
         "11.544148711449091"
        ],
        [
         "4",
         "2017-01-04 00:00:00",
         "A",
         "6573",
         "797",
         "12.125361326639283",
         "16008",
         "1903",
         "11.887806096951524"
        ]
       ],
       "shape": {
        "columns": 8,
        "rows": 5
       }
      },
      "text/html": [
       "<div>\n",
       "<style scoped>\n",
       "    .dataframe tbody tr th:only-of-type {\n",
       "        vertical-align: middle;\n",
       "    }\n",
       "\n",
       "    .dataframe tbody tr th {\n",
       "        vertical-align: top;\n",
       "    }\n",
       "\n",
       "    .dataframe thead th {\n",
       "        text-align: right;\n",
       "    }\n",
       "</style>\n",
       "<table border=\"1\" class=\"dataframe\">\n",
       "  <thead>\n",
       "    <tr style=\"text-align: right;\">\n",
       "      <th></th>\n",
       "      <th>timestamp</th>\n",
       "      <th>group</th>\n",
       "      <th>users_count</th>\n",
       "      <th>converted</th>\n",
       "      <th>conversion</th>\n",
       "      <th>cum_users_count</th>\n",
       "      <th>cum_converted</th>\n",
       "      <th>cum_conversion</th>\n",
       "    </tr>\n",
       "  </thead>\n",
       "  <tbody>\n",
       "    <tr>\n",
       "      <th>0</th>\n",
       "      <td>2017-01-02</td>\n",
       "      <td>A</td>\n",
       "      <td>2851</td>\n",
       "      <td>357</td>\n",
       "      <td>12.521922</td>\n",
       "      <td>2851</td>\n",
       "      <td>357</td>\n",
       "      <td>12.521922</td>\n",
       "    </tr>\n",
       "    <tr>\n",
       "      <th>1</th>\n",
       "      <td>2017-01-02</td>\n",
       "      <td>B</td>\n",
       "      <td>2848</td>\n",
       "      <td>339</td>\n",
       "      <td>11.903090</td>\n",
       "      <td>2848</td>\n",
       "      <td>339</td>\n",
       "      <td>11.903090</td>\n",
       "    </tr>\n",
       "    <tr>\n",
       "      <th>2</th>\n",
       "      <td>2017-01-03</td>\n",
       "      <td>A</td>\n",
       "      <td>6584</td>\n",
       "      <td>749</td>\n",
       "      <td>11.376063</td>\n",
       "      <td>9435</td>\n",
       "      <td>1106</td>\n",
       "      <td>11.722311</td>\n",
       "    </tr>\n",
       "    <tr>\n",
       "      <th>3</th>\n",
       "      <td>2017-01-03</td>\n",
       "      <td>B</td>\n",
       "      <td>6620</td>\n",
       "      <td>754</td>\n",
       "      <td>11.389728</td>\n",
       "      <td>9468</td>\n",
       "      <td>1093</td>\n",
       "      <td>11.544149</td>\n",
       "    </tr>\n",
       "    <tr>\n",
       "      <th>4</th>\n",
       "      <td>2017-01-04</td>\n",
       "      <td>A</td>\n",
       "      <td>6573</td>\n",
       "      <td>797</td>\n",
       "      <td>12.125361</td>\n",
       "      <td>16008</td>\n",
       "      <td>1903</td>\n",
       "      <td>11.887806</td>\n",
       "    </tr>\n",
       "  </tbody>\n",
       "</table>\n",
       "</div>"
      ],
      "text/plain": [
       "   timestamp group  users_count  converted  conversion  cum_users_count  \\\n",
       "0 2017-01-02     A         2851        357   12.521922             2851   \n",
       "1 2017-01-02     B         2848        339   11.903090             2848   \n",
       "2 2017-01-03     A         6584        749   11.376063             9435   \n",
       "3 2017-01-03     B         6620        754   11.389728             9468   \n",
       "4 2017-01-04     A         6573        797   12.125361            16008   \n",
       "\n",
       "   cum_converted  cum_conversion  \n",
       "0            357       12.521922  \n",
       "1            339       11.903090  \n",
       "2           1106       11.722311  \n",
       "3           1093       11.544149  \n",
       "4           1903       11.887806  "
      ]
     },
     "metadata": {},
     "output_type": "display_data"
    }
   ],
   "source": [
    "# вычисляем кумулятивную сумму количества посетителей\n",
    "daily_data['cum_users_count'] = daily_data.groupby(['group'])['users_count'].cumsum()\n",
    "# вычисляем кумулятивную сумму количества совершённых целевых действий\n",
    "daily_data['cum_converted'] = daily_data.groupby(['group'])['converted'].cumsum()\n",
    "# вычисляем кумулятивную конверсию\n",
    "daily_data['cum_conversion'] = daily_data['cum_converted']/daily_data['cum_users_count'] * 100\n",
    "display(daily_data.head())"
   ]
  },
  {
   "cell_type": "code",
   "execution_count": 16,
   "metadata": {},
   "outputs": [],
   "source": [
    "plt.figure(figsize=(8, 4))\n",
    "sns.lineplot(\n",
    "    data=daily_data,\n",
    "    x='timestamp',\n",
    "    y='cum_conversion',\n",
    "    hue='group')\n",
    "\n",
    "# Adding labels and title\n",
    "plt.xlabel('Cum_Conversion')\n",
    "plt.ylabel('Date')\n",
    "plt.title('График конверсии по дням')\n",
    "\n",
    "# Show plot\n",
    "plt.show()"
   ]
  },
  {
   "cell_type": "code",
   "execution_count": 17,
   "metadata": {},
   "outputs": [],
   "source": [
    "# Загрузка данных\n",
    "sample_a = pd.read_csv('./data/ab_test-redesign_sample_a.csv')\n",
    "sample_b = pd.read_csv('./data/ab_test-redesign_sample_b.csv')"
   ]
  },
  {
   "cell_type": "code",
   "execution_count": 18,
   "metadata": {},
   "outputs": [
    {
     "data": {
      "application/vnd.microsoft.datawrangler.viewer.v0+json": {
       "columns": [
        {
         "name": "index",
         "rawType": "int64",
         "type": "integer"
        },
        {
         "name": "date",
         "rawType": "datetime64[ns]",
         "type": "datetime"
        },
        {
         "name": "cid",
         "rawType": "float64",
         "type": "float"
        },
        {
         "name": "transactions",
         "rawType": "int64",
         "type": "integer"
        },
        {
         "name": "revenue",
         "rawType": "int64",
         "type": "integer"
        },
        {
         "name": "group",
         "rawType": "object",
         "type": "string"
        }
       ],
       "conversionMethod": "pd.DataFrame",
       "ref": "e56fe7a5-5be7-45e0-8132-628e2f6d3abd",
       "rows": [
        [
         "0",
         "2020-11-06 00:00:00",
         "1001647767.1604671",
         "0",
         "0",
         "A"
        ],
        [
         "1",
         "2020-11-06 00:00:00",
         "1001936214.160466",
         "0",
         "0",
         "A"
        ],
        [
         "2",
         "2020-11-06 00:00:00",
         "100321440.16039038",
         "0",
         "0",
         "A"
        ],
        [
         "3",
         "2020-11-06 00:00:00",
         "1004392551.1603712",
         "0",
         "0",
         "A"
        ],
        [
         "4",
         "2020-11-06 00:00:00",
         "1006382383.160468",
         "0",
         "0",
         "A"
        ],
        [
         "5",
         "2020-11-06 00:00:00",
         "1006437036.1604648",
         "0",
         "0",
         "A"
        ],
        [
         "6",
         "2020-11-06 00:00:00",
         "1009416849.1603812",
         "0",
         "0",
         "A"
        ],
        [
         "7",
         "2020-11-06 00:00:00",
         "1010496871.1604664",
         "0",
         "0",
         "A"
        ],
        [
         "8",
         "2020-11-06 00:00:00",
         "1011763867.160466",
         "0",
         "0",
         "A"
        ],
        [
         "9",
         "2020-11-06 00:00:00",
         "1012667344.1604664",
         "0",
         "0",
         "A"
        ],
        [
         "10",
         "2020-11-06 00:00:00",
         "1013043354.1604676",
         "0",
         "0",
         "A"
        ],
        [
         "11",
         "2020-11-06 00:00:00",
         "1013290189.1604668",
         "0",
         "0",
         "A"
        ],
        [
         "12",
         "2020-11-06 00:00:00",
         "1013484987.1604136",
         "0",
         "0",
         "A"
        ],
        [
         "13",
         "2020-11-06 00:00:00",
         "1014060788.1604682",
         "0",
         "0",
         "A"
        ],
        [
         "14",
         "2020-11-06 00:00:00",
         "1016235738.1603992",
         "0",
         "0",
         "A"
        ],
        [
         "15",
         "2020-11-06 00:00:00",
         "1017699236.1604652",
         "0",
         "0",
         "A"
        ],
        [
         "16",
         "2020-11-06 00:00:00",
         "101835147.15948144",
         "0",
         "0",
         "A"
        ],
        [
         "17",
         "2020-11-06 00:00:00",
         "1018680845.1604685",
         "0",
         "0",
         "A"
        ],
        [
         "18",
         "2020-11-06 00:00:00",
         "1020812820.1603876",
         "0",
         "0",
         "A"
        ],
        [
         "19",
         "2020-11-06 00:00:00",
         "1021155394.1603132",
         "0",
         "0",
         "A"
        ],
        [
         "20",
         "2020-11-06 00:00:00",
         "1022516773.1604652",
         "0",
         "0",
         "A"
        ],
        [
         "21",
         "2020-11-06 00:00:00",
         "102275876.16046926",
         "0",
         "0",
         "A"
        ],
        [
         "22",
         "2020-11-06 00:00:00",
         "1022961366.160392",
         "0",
         "0",
         "A"
        ],
        [
         "23",
         "2020-11-06 00:00:00",
         "1023153518.159662",
         "0",
         "0",
         "A"
        ],
        [
         "24",
         "2020-11-06 00:00:00",
         "1024060540.1604656",
         "0",
         "0",
         "A"
        ],
        [
         "25",
         "2020-11-06 00:00:00",
         "1025527981.160468",
         "0",
         "0",
         "A"
        ],
        [
         "26",
         "2020-11-06 00:00:00",
         "1026142885.1600702",
         "0",
         "0",
         "A"
        ],
        [
         "27",
         "2020-11-06 00:00:00",
         "1026338868.1604682",
         "0",
         "0",
         "A"
        ],
        [
         "28",
         "2020-11-06 00:00:00",
         "1027154026.1604688",
         "0",
         "0",
         "A"
        ],
        [
         "29",
         "2020-11-06 00:00:00",
         "1028004305.160462",
         "0",
         "0",
         "A"
        ],
        [
         "30",
         "2020-11-06 00:00:00",
         "1028048654.1604668",
         "0",
         "0",
         "A"
        ],
        [
         "31",
         "2020-11-06 00:00:00",
         "1029075394.1604692",
         "0",
         "0",
         "A"
        ],
        [
         "32",
         "2020-11-06 00:00:00",
         "1029226384.1604648",
         "0",
         "0",
         "A"
        ],
        [
         "33",
         "2020-11-06 00:00:00",
         "1029897254.1604688",
         "0",
         "0",
         "A"
        ],
        [
         "34",
         "2020-11-06 00:00:00",
         "1030297752.1604692",
         "0",
         "0",
         "A"
        ],
        [
         "35",
         "2020-11-06 00:00:00",
         "103045797.16046524",
         "0",
         "0",
         "A"
        ],
        [
         "36",
         "2020-11-06 00:00:00",
         "1030958469.1604664",
         "0",
         "0",
         "A"
        ],
        [
         "37",
         "2020-11-06 00:00:00",
         "1031101987.1604644",
         "0",
         "0",
         "A"
        ],
        [
         "38",
         "2020-11-06 00:00:00",
         "1033177098.1604568",
         "0",
         "0",
         "A"
        ],
        [
         "39",
         "2020-11-06 00:00:00",
         "1033402607.1604612",
         "0",
         "0",
         "A"
        ],
        [
         "40",
         "2020-11-06 00:00:00",
         "1034796545.1604692",
         "0",
         "0",
         "A"
        ],
        [
         "41",
         "2020-11-06 00:00:00",
         "103516301.1604649",
         "0",
         "0",
         "A"
        ],
        [
         "42",
         "2020-11-06 00:00:00",
         "1035514488.1604688",
         "0",
         "0",
         "A"
        ],
        [
         "43",
         "2020-11-06 00:00:00",
         "1036059932.1603574",
         "0",
         "0",
         "A"
        ],
        [
         "44",
         "2020-11-06 00:00:00",
         "1038091457.1604664",
         "0",
         "0",
         "A"
        ],
        [
         "45",
         "2020-11-06 00:00:00",
         "1039560295.160252",
         "0",
         "0",
         "A"
        ],
        [
         "46",
         "2020-11-06 00:00:00",
         "1039672930.1604612",
         "0",
         "0",
         "A"
        ],
        [
         "47",
         "2020-11-06 00:00:00",
         "1041648837.1604697",
         "0",
         "0",
         "A"
        ],
        [
         "48",
         "2020-11-06 00:00:00",
         "104201369.1604674",
         "0",
         "0",
         "A"
        ],
        [
         "49",
         "2020-11-06 00:00:00",
         "1042500488.1604228",
         "0",
         "0",
         "A"
        ]
       ],
       "shape": {
        "columns": 5,
        "rows": 61571
       }
      },
      "text/html": [
       "<div>\n",
       "<style scoped>\n",
       "    .dataframe tbody tr th:only-of-type {\n",
       "        vertical-align: middle;\n",
       "    }\n",
       "\n",
       "    .dataframe tbody tr th {\n",
       "        vertical-align: top;\n",
       "    }\n",
       "\n",
       "    .dataframe thead th {\n",
       "        text-align: right;\n",
       "    }\n",
       "</style>\n",
       "<table border=\"1\" class=\"dataframe\">\n",
       "  <thead>\n",
       "    <tr style=\"text-align: right;\">\n",
       "      <th></th>\n",
       "      <th>date</th>\n",
       "      <th>cid</th>\n",
       "      <th>transactions</th>\n",
       "      <th>revenue</th>\n",
       "      <th>group</th>\n",
       "    </tr>\n",
       "  </thead>\n",
       "  <tbody>\n",
       "    <tr>\n",
       "      <th>0</th>\n",
       "      <td>2020-11-06</td>\n",
       "      <td>1.001648e+09</td>\n",
       "      <td>0</td>\n",
       "      <td>0</td>\n",
       "      <td>A</td>\n",
       "    </tr>\n",
       "    <tr>\n",
       "      <th>1</th>\n",
       "      <td>2020-11-06</td>\n",
       "      <td>1.001936e+09</td>\n",
       "      <td>0</td>\n",
       "      <td>0</td>\n",
       "      <td>A</td>\n",
       "    </tr>\n",
       "    <tr>\n",
       "      <th>2</th>\n",
       "      <td>2020-11-06</td>\n",
       "      <td>1.003214e+08</td>\n",
       "      <td>0</td>\n",
       "      <td>0</td>\n",
       "      <td>A</td>\n",
       "    </tr>\n",
       "    <tr>\n",
       "      <th>3</th>\n",
       "      <td>2020-11-06</td>\n",
       "      <td>1.004393e+09</td>\n",
       "      <td>0</td>\n",
       "      <td>0</td>\n",
       "      <td>A</td>\n",
       "    </tr>\n",
       "    <tr>\n",
       "      <th>4</th>\n",
       "      <td>2020-11-06</td>\n",
       "      <td>1.006382e+09</td>\n",
       "      <td>0</td>\n",
       "      <td>0</td>\n",
       "      <td>A</td>\n",
       "    </tr>\n",
       "    <tr>\n",
       "      <th>...</th>\n",
       "      <td>...</td>\n",
       "      <td>...</td>\n",
       "      <td>...</td>\n",
       "      <td>...</td>\n",
       "      <td>...</td>\n",
       "    </tr>\n",
       "    <tr>\n",
       "      <th>61566</th>\n",
       "      <td>2020-11-23</td>\n",
       "      <td>9.986289e+08</td>\n",
       "      <td>0</td>\n",
       "      <td>0</td>\n",
       "      <td>A</td>\n",
       "    </tr>\n",
       "    <tr>\n",
       "      <th>61567</th>\n",
       "      <td>2020-11-23</td>\n",
       "      <td>9.989196e+08</td>\n",
       "      <td>0</td>\n",
       "      <td>0</td>\n",
       "      <td>A</td>\n",
       "    </tr>\n",
       "    <tr>\n",
       "      <th>61568</th>\n",
       "      <td>2020-11-23</td>\n",
       "      <td>9.990631e+08</td>\n",
       "      <td>0</td>\n",
       "      <td>0</td>\n",
       "      <td>A</td>\n",
       "    </tr>\n",
       "    <tr>\n",
       "      <th>61569</th>\n",
       "      <td>2020-11-23</td>\n",
       "      <td>9.994210e+07</td>\n",
       "      <td>0</td>\n",
       "      <td>0</td>\n",
       "      <td>A</td>\n",
       "    </tr>\n",
       "    <tr>\n",
       "      <th>61570</th>\n",
       "      <td>2020-11-23</td>\n",
       "      <td>9.994748e+08</td>\n",
       "      <td>0</td>\n",
       "      <td>0</td>\n",
       "      <td>A</td>\n",
       "    </tr>\n",
       "  </tbody>\n",
       "</table>\n",
       "<p>61571 rows × 5 columns</p>\n",
       "</div>"
      ],
      "text/plain": [
       "            date           cid  transactions  revenue group\n",
       "0     2020-11-06  1.001648e+09             0        0     A\n",
       "1     2020-11-06  1.001936e+09             0        0     A\n",
       "2     2020-11-06  1.003214e+08             0        0     A\n",
       "3     2020-11-06  1.004393e+09             0        0     A\n",
       "4     2020-11-06  1.006382e+09             0        0     A\n",
       "...          ...           ...           ...      ...   ...\n",
       "61566 2020-11-23  9.986289e+08             0        0     A\n",
       "61567 2020-11-23  9.989196e+08             0        0     A\n",
       "61568 2020-11-23  9.990631e+08             0        0     A\n",
       "61569 2020-11-23  9.994210e+07             0        0     A\n",
       "61570 2020-11-23  9.994748e+08             0        0     A\n",
       "\n",
       "[61571 rows x 5 columns]"
      ]
     },
     "execution_count": 18,
     "metadata": {},
     "output_type": "execute_result"
    }
   ],
   "source": [
    "sample_a['date'] = pd.to_datetime(sample_a ['date'], format='%Y-%m-%d')\n",
    "sample_b['date'] = pd.to_datetime(sample_b ['date'], format='%Y-%m-%d')\n",
    "\n",
    "sample_a"
   ]
  },
  {
   "cell_type": "code",
   "execution_count": 19,
   "metadata": {},
   "outputs": [
    {
     "data": {
      "application/vnd.microsoft.datawrangler.viewer.v0+json": {
       "columns": [
        {
         "name": "index",
         "rawType": "int64",
         "type": "integer"
        },
        {
         "name": "date",
         "rawType": "datetime64[ns]",
         "type": "datetime"
        },
        {
         "name": "group",
         "rawType": "object",
         "type": "string"
        },
        {
         "name": "cid_count",
         "rawType": "int64",
         "type": "integer"
        },
        {
         "name": "sum_transactions",
         "rawType": "int64",
         "type": "integer"
        },
        {
         "name": "sum_revenue",
         "rawType": "int64",
         "type": "integer"
        }
       ],
       "conversionMethod": "pd.DataFrame",
       "ref": "ef949edc-8a44-4385-bd81-37f770f408ea",
       "rows": [
        [
         "0",
         "2020-11-06 00:00:00",
         "A",
         "2576",
         "16",
         "1577279"
        ],
        [
         "1",
         "2020-11-07 00:00:00",
         "A",
         "2704",
         "23",
         "1721886"
        ],
        [
         "2",
         "2020-11-08 00:00:00",
         "A",
         "3354",
         "25",
         "846051"
        ],
        [
         "3",
         "2020-11-09 00:00:00",
         "A",
         "3234",
         "18",
         "708830"
        ],
        [
         "4",
         "2020-11-10 00:00:00",
         "A",
         "3022",
         "29",
         "826984"
        ]
       ],
       "shape": {
        "columns": 5,
        "rows": 5
       }
      },
      "text/html": [
       "<div>\n",
       "<style scoped>\n",
       "    .dataframe tbody tr th:only-of-type {\n",
       "        vertical-align: middle;\n",
       "    }\n",
       "\n",
       "    .dataframe tbody tr th {\n",
       "        vertical-align: top;\n",
       "    }\n",
       "\n",
       "    .dataframe thead th {\n",
       "        text-align: right;\n",
       "    }\n",
       "</style>\n",
       "<table border=\"1\" class=\"dataframe\">\n",
       "  <thead>\n",
       "    <tr style=\"text-align: right;\">\n",
       "      <th></th>\n",
       "      <th>date</th>\n",
       "      <th>group</th>\n",
       "      <th>cid_count</th>\n",
       "      <th>sum_transactions</th>\n",
       "      <th>sum_revenue</th>\n",
       "    </tr>\n",
       "  </thead>\n",
       "  <tbody>\n",
       "    <tr>\n",
       "      <th>0</th>\n",
       "      <td>2020-11-06</td>\n",
       "      <td>A</td>\n",
       "      <td>2576</td>\n",
       "      <td>16</td>\n",
       "      <td>1577279</td>\n",
       "    </tr>\n",
       "    <tr>\n",
       "      <th>1</th>\n",
       "      <td>2020-11-07</td>\n",
       "      <td>A</td>\n",
       "      <td>2704</td>\n",
       "      <td>23</td>\n",
       "      <td>1721886</td>\n",
       "    </tr>\n",
       "    <tr>\n",
       "      <th>2</th>\n",
       "      <td>2020-11-08</td>\n",
       "      <td>A</td>\n",
       "      <td>3354</td>\n",
       "      <td>25</td>\n",
       "      <td>846051</td>\n",
       "    </tr>\n",
       "    <tr>\n",
       "      <th>3</th>\n",
       "      <td>2020-11-09</td>\n",
       "      <td>A</td>\n",
       "      <td>3234</td>\n",
       "      <td>18</td>\n",
       "      <td>708830</td>\n",
       "    </tr>\n",
       "    <tr>\n",
       "      <th>4</th>\n",
       "      <td>2020-11-10</td>\n",
       "      <td>A</td>\n",
       "      <td>3022</td>\n",
       "      <td>29</td>\n",
       "      <td>826984</td>\n",
       "    </tr>\n",
       "  </tbody>\n",
       "</table>\n",
       "</div>"
      ],
      "text/plain": [
       "        date group  cid_count  sum_transactions  sum_revenue\n",
       "0 2020-11-06     A       2576                16      1577279\n",
       "1 2020-11-07     A       2704                23      1721886\n",
       "2 2020-11-08     A       3354                25       846051\n",
       "3 2020-11-09     A       3234                18       708830\n",
       "4 2020-11-10     A       3022                29       826984"
      ]
     },
     "execution_count": 19,
     "metadata": {},
     "output_type": "execute_result"
    }
   ],
   "source": [
    "# Группировка данных\n",
    "daily_data_a = sample_a.groupby(['date', 'group']).agg({\n",
    "    'cid': 'count',\n",
    "    'transactions': 'sum',\n",
    "    'revenue': \"sum\"\n",
    "}).reset_index().rename(columns={'cid': 'cid_count', 'transactions': 'sum_transactions', 'revenue': 'sum_revenue'})\n",
    "\n",
    "daily_data_b = sample_b.groupby(['date', 'group']).agg({\n",
    "    'cid': 'count',\n",
    "    'transactions': 'sum',\n",
    "    'revenue': \"sum\"\n",
    "}).reset_index().rename(columns={'cid': 'cid_count', 'transactions': 'sum_transactions', 'revenue': 'sum_revenue'})\n",
    "\n",
    "daily_data_a.head()"
   ]
  },
  {
   "cell_type": "code",
   "execution_count": 20,
   "metadata": {},
   "outputs": [],
   "source": [
    "# кумулятивная сумма количества посетителей\n",
    "daily_data_a['cum_cid_count'] = daily_data_a.groupby(['group'])['cid_count'].cumsum()\n",
    "# кумулятивное суммарное число транзакций\n",
    "daily_data_a['cum_sum_transactions'] = daily_data_a.groupby(['group'])['sum_transactions'].cumsum()\n",
    "# кумулятивная общая сумма покупок (кумулятивная выручка)\n",
    "daily_data_a['cum_sum_revenue'] = daily_data_a.groupby(['group'])['sum_revenue'].cumsum()\n",
    "# кумулятивная конверсия\n",
    "daily_data_a['cum_conversion'] = daily_data_a['cum_sum_transactions']/daily_data_a['cum_cid_count'] * 100\n",
    "# кумулятивный средний чек\n",
    "daily_data_a['cum_mean_check'] = daily_data_a['cum_sum_revenue']/daily_data_a['cum_sum_transactions']\n",
    "\n",
    "\n",
    "# кумулятивная сумма количества посетителей\n",
    "daily_data_b['cum_cid_count'] = daily_data_b.groupby(['group'])['cid_count'].cumsum()\n",
    "# кумулятивное суммарное число транзакций\n",
    "daily_data_b['cum_sum_transactions'] = daily_data_b.groupby(['group'])['sum_transactions'].cumsum()\n",
    "# кумулятивная общая сумма покупок (кумулятивная выручка)\n",
    "daily_data_b['cum_sum_revenue'] = daily_data_b.groupby(['group'])['sum_revenue'].cumsum()\n",
    "# кумулятивная конверсия\n",
    "daily_data_b['cum_conversion'] = daily_data_b['cum_sum_transactions']/daily_data_b['cum_cid_count'] * 100\n",
    "# кумулятивный средний чек\n",
    "daily_data_b['cum_mean_check'] = daily_data_b['cum_sum_revenue']/daily_data_b['cum_sum_transactions']\n"
   ]
  },
  {
   "cell_type": "code",
   "execution_count": 21,
   "metadata": {},
   "outputs": [
    {
     "data": {
      "text/plain": [
       "group\n",
       "A    0.712755\n",
       "Name: cum_conversion, dtype: float64"
      ]
     },
     "execution_count": 21,
     "metadata": {},
     "output_type": "execute_result"
    }
   ],
   "source": [
    "mean_cum_conversion_data_a = daily_data_a.groupby(['group'])['cum_conversion'].mean()\n",
    "mean_cum_conversion_data_a "
   ]
  },
  {
   "cell_type": "code",
   "execution_count": 22,
   "metadata": {},
   "outputs": [
    {
     "data": {
      "text/plain": [
       "group\n",
       "B    0.762178\n",
       "Name: cum_conversion, dtype: float64"
      ]
     },
     "execution_count": 22,
     "metadata": {},
     "output_type": "execute_result"
    }
   ],
   "source": [
    "mean_cum_conversion_data_b = daily_data_b.groupby(['group'])['cum_conversion'].mean()\n",
    "mean_cum_conversion_data_b"
   ]
  },
  {
   "cell_type": "code",
   "execution_count": 23,
   "metadata": {},
   "outputs": [
    {
     "data": {
      "application/vnd.microsoft.datawrangler.viewer.v0+json": {
       "columns": [
        {
         "name": "index",
         "rawType": "int64",
         "type": "integer"
        },
        {
         "name": "date",
         "rawType": "datetime64[ns]",
         "type": "datetime"
        },
        {
         "name": "group",
         "rawType": "object",
         "type": "string"
        },
        {
         "name": "cid_count",
         "rawType": "int64",
         "type": "integer"
        },
        {
         "name": "sum_transactions",
         "rawType": "int64",
         "type": "integer"
        },
        {
         "name": "sum_revenue",
         "rawType": "int64",
         "type": "integer"
        },
        {
         "name": "cum_cid_count",
         "rawType": "int64",
         "type": "integer"
        },
        {
         "name": "cum_sum_transactions",
         "rawType": "int64",
         "type": "integer"
        },
        {
         "name": "cum_sum_revenue",
         "rawType": "int64",
         "type": "integer"
        },
        {
         "name": "cum_conversion",
         "rawType": "float64",
         "type": "float"
        },
        {
         "name": "cum_mean_check",
         "rawType": "float64",
         "type": "float"
        }
       ],
       "conversionMethod": "pd.DataFrame",
       "ref": "28cf0ed6-f7bd-4b17-89e4-80d4ccf41379",
       "rows": [
        [
         "0",
         "2020-11-06 00:00:00",
         "A",
         "2576",
         "16",
         "1577279",
         "2576",
         "16",
         "1577279",
         "0.6211180124223602",
         "98579.9375"
        ],
        [
         "1",
         "2020-11-07 00:00:00",
         "A",
         "2704",
         "23",
         "1721886",
         "5280",
         "39",
         "3299165",
         "0.7386363636363636",
         "84593.97435897436"
        ],
        [
         "2",
         "2020-11-08 00:00:00",
         "A",
         "3354",
         "25",
         "846051",
         "8634",
         "64",
         "4145216",
         "0.7412555015056752",
         "64769.0"
        ],
        [
         "3",
         "2020-11-09 00:00:00",
         "A",
         "3234",
         "18",
         "708830",
         "11868",
         "82",
         "4854046",
         "0.6909336029659588",
         "59195.68292682927"
        ],
        [
         "4",
         "2020-11-10 00:00:00",
         "A",
         "3022",
         "29",
         "826984",
         "14890",
         "111",
         "5681030",
         "0.745466756212223",
         "51180.45045045045"
        ]
       ],
       "shape": {
        "columns": 10,
        "rows": 5
       }
      },
      "text/html": [
       "<div>\n",
       "<style scoped>\n",
       "    .dataframe tbody tr th:only-of-type {\n",
       "        vertical-align: middle;\n",
       "    }\n",
       "\n",
       "    .dataframe tbody tr th {\n",
       "        vertical-align: top;\n",
       "    }\n",
       "\n",
       "    .dataframe thead th {\n",
       "        text-align: right;\n",
       "    }\n",
       "</style>\n",
       "<table border=\"1\" class=\"dataframe\">\n",
       "  <thead>\n",
       "    <tr style=\"text-align: right;\">\n",
       "      <th></th>\n",
       "      <th>date</th>\n",
       "      <th>group</th>\n",
       "      <th>cid_count</th>\n",
       "      <th>sum_transactions</th>\n",
       "      <th>sum_revenue</th>\n",
       "      <th>cum_cid_count</th>\n",
       "      <th>cum_sum_transactions</th>\n",
       "      <th>cum_sum_revenue</th>\n",
       "      <th>cum_conversion</th>\n",
       "      <th>cum_mean_check</th>\n",
       "    </tr>\n",
       "  </thead>\n",
       "  <tbody>\n",
       "    <tr>\n",
       "      <th>0</th>\n",
       "      <td>2020-11-06</td>\n",
       "      <td>A</td>\n",
       "      <td>2576</td>\n",
       "      <td>16</td>\n",
       "      <td>1577279</td>\n",
       "      <td>2576</td>\n",
       "      <td>16</td>\n",
       "      <td>1577279</td>\n",
       "      <td>0.621118</td>\n",
       "      <td>98579.937500</td>\n",
       "    </tr>\n",
       "    <tr>\n",
       "      <th>1</th>\n",
       "      <td>2020-11-07</td>\n",
       "      <td>A</td>\n",
       "      <td>2704</td>\n",
       "      <td>23</td>\n",
       "      <td>1721886</td>\n",
       "      <td>5280</td>\n",
       "      <td>39</td>\n",
       "      <td>3299165</td>\n",
       "      <td>0.738636</td>\n",
       "      <td>84593.974359</td>\n",
       "    </tr>\n",
       "    <tr>\n",
       "      <th>2</th>\n",
       "      <td>2020-11-08</td>\n",
       "      <td>A</td>\n",
       "      <td>3354</td>\n",
       "      <td>25</td>\n",
       "      <td>846051</td>\n",
       "      <td>8634</td>\n",
       "      <td>64</td>\n",
       "      <td>4145216</td>\n",
       "      <td>0.741256</td>\n",
       "      <td>64769.000000</td>\n",
       "    </tr>\n",
       "    <tr>\n",
       "      <th>3</th>\n",
       "      <td>2020-11-09</td>\n",
       "      <td>A</td>\n",
       "      <td>3234</td>\n",
       "      <td>18</td>\n",
       "      <td>708830</td>\n",
       "      <td>11868</td>\n",
       "      <td>82</td>\n",
       "      <td>4854046</td>\n",
       "      <td>0.690934</td>\n",
       "      <td>59195.682927</td>\n",
       "    </tr>\n",
       "    <tr>\n",
       "      <th>4</th>\n",
       "      <td>2020-11-10</td>\n",
       "      <td>A</td>\n",
       "      <td>3022</td>\n",
       "      <td>29</td>\n",
       "      <td>826984</td>\n",
       "      <td>14890</td>\n",
       "      <td>111</td>\n",
       "      <td>5681030</td>\n",
       "      <td>0.745467</td>\n",
       "      <td>51180.450450</td>\n",
       "    </tr>\n",
       "  </tbody>\n",
       "</table>\n",
       "</div>"
      ],
      "text/plain": [
       "        date group  cid_count  sum_transactions  sum_revenue  cum_cid_count  \\\n",
       "0 2020-11-06     A       2576                16      1577279           2576   \n",
       "1 2020-11-07     A       2704                23      1721886           5280   \n",
       "2 2020-11-08     A       3354                25       846051           8634   \n",
       "3 2020-11-09     A       3234                18       708830          11868   \n",
       "4 2020-11-10     A       3022                29       826984          14890   \n",
       "\n",
       "   cum_sum_transactions  cum_sum_revenue  cum_conversion  cum_mean_check  \n",
       "0                    16          1577279        0.621118    98579.937500  \n",
       "1                    39          3299165        0.738636    84593.974359  \n",
       "2                    64          4145216        0.741256    64769.000000  \n",
       "3                    82          4854046        0.690934    59195.682927  \n",
       "4                   111          5681030        0.745467    51180.450450  "
      ]
     },
     "execution_count": 23,
     "metadata": {},
     "output_type": "execute_result"
    }
   ],
   "source": [
    "daily_data_a.head()"
   ]
  },
  {
   "cell_type": "code",
   "execution_count": 24,
   "metadata": {},
   "outputs": [
    {
     "data": {
      "application/vnd.microsoft.datawrangler.viewer.v0+json": {
       "columns": [
        {
         "name": "index",
         "rawType": "int64",
         "type": "integer"
        },
        {
         "name": "date",
         "rawType": "datetime64[ns]",
         "type": "datetime"
        },
        {
         "name": "group",
         "rawType": "object",
         "type": "string"
        },
        {
         "name": "cid_count",
         "rawType": "int64",
         "type": "integer"
        },
        {
         "name": "sum_transactions",
         "rawType": "int64",
         "type": "integer"
        },
        {
         "name": "sum_revenue",
         "rawType": "int64",
         "type": "integer"
        },
        {
         "name": "cum_cid_count",
         "rawType": "int64",
         "type": "integer"
        },
        {
         "name": "cum_sum_transactions",
         "rawType": "int64",
         "type": "integer"
        },
        {
         "name": "cum_sum_revenue",
         "rawType": "int64",
         "type": "integer"
        },
        {
         "name": "cum_conversion",
         "rawType": "float64",
         "type": "float"
        },
        {
         "name": "cum_mean_check",
         "rawType": "float64",
         "type": "float"
        }
       ],
       "conversionMethod": "pd.DataFrame",
       "ref": "b29b2f8e-2e7b-4f21-8afd-dc3cce4c9441",
       "rows": [
        [
         "0",
         "2020-11-06 00:00:00",
         "B",
         "2499",
         "19",
         "996645",
         "2499",
         "19",
         "996645",
         "0.7603041216486595",
         "52455.0"
        ],
        [
         "1",
         "2020-11-07 00:00:00",
         "B",
         "2804",
         "19",
         "555499",
         "5303",
         "38",
         "1552144",
         "0.7165755232887044",
         "40845.89473684211"
        ],
        [
         "2",
         "2020-11-08 00:00:00",
         "B",
         "3291",
         "24",
         "3044842",
         "8594",
         "62",
         "4596986",
         "0.7214335582964859",
         "74144.93548387097"
        ],
        [
         "3",
         "2020-11-09 00:00:00",
         "B",
         "3062",
         "25",
         "1285836",
         "11656",
         "87",
         "5882822",
         "0.7463967055593687",
         "67618.64367816092"
        ],
        [
         "4",
         "2020-11-10 00:00:00",
         "B",
         "3072",
         "30",
         "2414726",
         "14728",
         "117",
         "8297548",
         "0.7944052145573058",
         "70919.21367521367"
        ]
       ],
       "shape": {
        "columns": 10,
        "rows": 5
       }
      },
      "text/html": [
       "<div>\n",
       "<style scoped>\n",
       "    .dataframe tbody tr th:only-of-type {\n",
       "        vertical-align: middle;\n",
       "    }\n",
       "\n",
       "    .dataframe tbody tr th {\n",
       "        vertical-align: top;\n",
       "    }\n",
       "\n",
       "    .dataframe thead th {\n",
       "        text-align: right;\n",
       "    }\n",
       "</style>\n",
       "<table border=\"1\" class=\"dataframe\">\n",
       "  <thead>\n",
       "    <tr style=\"text-align: right;\">\n",
       "      <th></th>\n",
       "      <th>date</th>\n",
       "      <th>group</th>\n",
       "      <th>cid_count</th>\n",
       "      <th>sum_transactions</th>\n",
       "      <th>sum_revenue</th>\n",
       "      <th>cum_cid_count</th>\n",
       "      <th>cum_sum_transactions</th>\n",
       "      <th>cum_sum_revenue</th>\n",
       "      <th>cum_conversion</th>\n",
       "      <th>cum_mean_check</th>\n",
       "    </tr>\n",
       "  </thead>\n",
       "  <tbody>\n",
       "    <tr>\n",
       "      <th>0</th>\n",
       "      <td>2020-11-06</td>\n",
       "      <td>B</td>\n",
       "      <td>2499</td>\n",
       "      <td>19</td>\n",
       "      <td>996645</td>\n",
       "      <td>2499</td>\n",
       "      <td>19</td>\n",
       "      <td>996645</td>\n",
       "      <td>0.760304</td>\n",
       "      <td>52455.000000</td>\n",
       "    </tr>\n",
       "    <tr>\n",
       "      <th>1</th>\n",
       "      <td>2020-11-07</td>\n",
       "      <td>B</td>\n",
       "      <td>2804</td>\n",
       "      <td>19</td>\n",
       "      <td>555499</td>\n",
       "      <td>5303</td>\n",
       "      <td>38</td>\n",
       "      <td>1552144</td>\n",
       "      <td>0.716576</td>\n",
       "      <td>40845.894737</td>\n",
       "    </tr>\n",
       "    <tr>\n",
       "      <th>2</th>\n",
       "      <td>2020-11-08</td>\n",
       "      <td>B</td>\n",
       "      <td>3291</td>\n",
       "      <td>24</td>\n",
       "      <td>3044842</td>\n",
       "      <td>8594</td>\n",
       "      <td>62</td>\n",
       "      <td>4596986</td>\n",
       "      <td>0.721434</td>\n",
       "      <td>74144.935484</td>\n",
       "    </tr>\n",
       "    <tr>\n",
       "      <th>3</th>\n",
       "      <td>2020-11-09</td>\n",
       "      <td>B</td>\n",
       "      <td>3062</td>\n",
       "      <td>25</td>\n",
       "      <td>1285836</td>\n",
       "      <td>11656</td>\n",
       "      <td>87</td>\n",
       "      <td>5882822</td>\n",
       "      <td>0.746397</td>\n",
       "      <td>67618.643678</td>\n",
       "    </tr>\n",
       "    <tr>\n",
       "      <th>4</th>\n",
       "      <td>2020-11-10</td>\n",
       "      <td>B</td>\n",
       "      <td>3072</td>\n",
       "      <td>30</td>\n",
       "      <td>2414726</td>\n",
       "      <td>14728</td>\n",
       "      <td>117</td>\n",
       "      <td>8297548</td>\n",
       "      <td>0.794405</td>\n",
       "      <td>70919.213675</td>\n",
       "    </tr>\n",
       "  </tbody>\n",
       "</table>\n",
       "</div>"
      ],
      "text/plain": [
       "        date group  cid_count  sum_transactions  sum_revenue  cum_cid_count  \\\n",
       "0 2020-11-06     B       2499                19       996645           2499   \n",
       "1 2020-11-07     B       2804                19       555499           5303   \n",
       "2 2020-11-08     B       3291                24      3044842           8594   \n",
       "3 2020-11-09     B       3062                25      1285836          11656   \n",
       "4 2020-11-10     B       3072                30      2414726          14728   \n",
       "\n",
       "   cum_sum_transactions  cum_sum_revenue  cum_conversion  cum_mean_check  \n",
       "0                    19           996645        0.760304    52455.000000  \n",
       "1                    38          1552144        0.716576    40845.894737  \n",
       "2                    62          4596986        0.721434    74144.935484  \n",
       "3                    87          5882822        0.746397    67618.643678  \n",
       "4                   117          8297548        0.794405    70919.213675  "
      ]
     },
     "execution_count": 24,
     "metadata": {},
     "output_type": "execute_result"
    }
   ],
   "source": [
    "daily_data_b.head()"
   ]
  },
  {
   "cell_type": "code",
   "execution_count": 25,
   "metadata": {},
   "outputs": [],
   "source": [
    "# Построение объединенного графика для сревнения конверсий\n",
    "plt.figure(figsize=(10, 6))\n",
    "\n",
    "# График для первого DataFrame\n",
    "sns.lineplot(data=daily_data_a, x='date', y='cum_conversion', label='A', color=\"red\",)\n",
    "\n",
    "# График для второго DataFrame\n",
    "sns.lineplot(data=daily_data_b, x='date', y='cum_conversion', label='B', color='blue')\n",
    "\n",
    "# Добавление заголовка и меток осей\n",
    "plt.title('Conversions')\n",
    "plt.xlabel('date')\n",
    "plt.ylabel('conversion')\n",
    "plt.legend()\n",
    "\n",
    "# Отображение графика\n",
    "plt.show()"
   ]
  },
  {
   "cell_type": "code",
   "execution_count": 26,
   "metadata": {},
   "outputs": [],
   "source": [
    "# Построение объединенного графика для среднего чека\n",
    "plt.figure(figsize=(10, 6))\n",
    "\n",
    "# График для первого DataFrame\n",
    "sns.lineplot(data=daily_data_a, x='date', y='cum_mean_check', label='A', color=\"red\",)\n",
    "\n",
    "# График для второго DataFrame\n",
    "sns.lineplot(data=daily_data_b, x='date', y='cum_mean_check', label='B', color='blue')\n",
    "\n",
    "# Добавление заголовка и меток осей\n",
    "plt.title('Mean check')\n",
    "plt.xlabel('date')\n",
    "plt.ylabel('mean_check')\n",
    "plt.legend()\n",
    "\n",
    "# Отображение графика\n",
    "plt.show()"
   ]
  },
  {
   "cell_type": "code",
   "execution_count": 27,
   "metadata": {},
   "outputs": [
    {
     "data": {
      "application/vnd.microsoft.datawrangler.viewer.v0+json": {
       "columns": [
        {
         "name": "group",
         "rawType": "object",
         "type": "string"
        },
        {
         "name": "sum",
         "rawType": "int64",
         "type": "integer"
        },
        {
         "name": "count",
         "rawType": "int64",
         "type": "integer"
        }
       ],
       "conversionMethod": "pd.DataFrame",
       "ref": "9749a1c6-819a-4fb9-be24-a892ba608944",
       "rows": [
        [
         "A",
         "17467",
         "145241"
        ],
        [
         "B",
         "17238",
         "145241"
        ]
       ],
       "shape": {
        "columns": 2,
        "rows": 2
       }
      },
      "text/html": [
       "<div>\n",
       "<style scoped>\n",
       "    .dataframe tbody tr th:only-of-type {\n",
       "        vertical-align: middle;\n",
       "    }\n",
       "\n",
       "    .dataframe tbody tr th {\n",
       "        vertical-align: top;\n",
       "    }\n",
       "\n",
       "    .dataframe thead th {\n",
       "        text-align: right;\n",
       "    }\n",
       "</style>\n",
       "<table border=\"1\" class=\"dataframe\">\n",
       "  <thead>\n",
       "    <tr style=\"text-align: right;\">\n",
       "      <th></th>\n",
       "      <th>sum</th>\n",
       "      <th>count</th>\n",
       "    </tr>\n",
       "    <tr>\n",
       "      <th>group</th>\n",
       "      <th></th>\n",
       "      <th></th>\n",
       "    </tr>\n",
       "  </thead>\n",
       "  <tbody>\n",
       "    <tr>\n",
       "      <th>A</th>\n",
       "      <td>17467</td>\n",
       "      <td>145241</td>\n",
       "    </tr>\n",
       "    <tr>\n",
       "      <th>B</th>\n",
       "      <td>17238</td>\n",
       "      <td>145241</td>\n",
       "    </tr>\n",
       "  </tbody>\n",
       "</table>\n",
       "</div>"
      ],
      "text/plain": [
       "         sum   count\n",
       "group               \n",
       "A      17467  145241\n",
       "B      17238  145241"
      ]
     },
     "metadata": {},
     "output_type": "display_data"
    }
   ],
   "source": [
    "from statsmodels.stats.proportion import proportions_ztest\n",
    "\n",
    "converted_piv= ab_data.groupby('group')['converted'].agg(\n",
    "    ['sum', 'count']\n",
    ")\n",
    "display(converted_piv)\n"
   ]
  },
  {
   "cell_type": "code",
   "execution_count": 28,
   "metadata": {},
   "outputs": [
    {
     "name": "stdout",
     "output_type": "stream",
     "text": [
      "p-value:  0.19\n",
      "У нас нет оснований отвергнуть нулевую гипотезу\n"
     ]
    }
   ],
   "source": [
    "alpha = 0.05 # уровень значимости\n",
    "# вычисляем значение p-value для z-теста для пропорций\n",
    "_, p_value = proportions_ztest(\n",
    "    count=converted_piv['sum'], #число «успехов»\n",
    "    nobs=converted_piv['count'], #общее число наблюдений\n",
    "    alternative='two-sided',\n",
    ")\n",
    "# выводим результат на экран\n",
    "print('p-value: ', round(p_value, 3))\n",
    "# сравниваем полученное p-value с уровнем значимости\n",
    "if (p_value <= alpha):\n",
    "    print(\"Отвергаем нулевую гипотезу в пользу альтернативной\")\n",
    "else:\n",
    "    print(\"У нас нет оснований отвергнуть нулевую гипотезу\")\n",
    "\n",
    "# p-value:  0.19\n",
    "# У нас нет оснований отвергнуть нулевую гипотезу"
   ]
  },
  {
   "cell_type": "code",
   "execution_count": 29,
   "metadata": {},
   "outputs": [
    {
     "name": "stdout",
     "output_type": "stream",
     "text": [
      "p-value:  0.19\n",
      "У нас нет оснований отвергнуть нулевую гипотезу\n"
     ]
    }
   ],
   "source": [
    "from statsmodels.stats.proportion import proportions_chisquare\n",
    "\n",
    "alpha = 0.05 # уровень значимости\n",
    "# вычисляем значение p-value для Z-теста для пропорций\n",
    "_, p_value, c = proportions_chisquare(\n",
    "    count=converted_piv['sum'], #число «успехов»\n",
    "    nobs=converted_piv['count'] #общее число наблюдений\n",
    ")\n",
    "# выводим результат на экран\n",
    "print('p-value: ', round(p_value, 3))\n",
    "# сравниваем полученное p-value с уровнем значимости\n",
    "if (p_value <= alpha):\n",
    "    print(\"Отвергаем нулевую гипотезу в пользу альтернативной\")\n",
    "else:\n",
    "    print(\"У нас нет оснований отвергнуть нулевую гипотезу\")\n",
    "\n",
    "# p-value:  0.19\n",
    "# У нас нет оснований отвергнуть нулевую гипотезу"
   ]
  },
  {
   "cell_type": "code",
   "execution_count": 30,
   "metadata": {},
   "outputs": [
    {
     "data": {
      "application/vnd.microsoft.datawrangler.viewer.v0+json": {
       "columns": [
        {
         "name": "index",
         "rawType": "int64",
         "type": "integer"
        },
        {
         "name": "time(A)",
         "rawType": "float64",
         "type": "float"
        },
        {
         "name": "time(B)",
         "rawType": "float64",
         "type": "float"
        }
       ],
       "conversionMethod": "pd.DataFrame",
       "ref": "275bdb3f-d03a-4e95-b7f6-31bda289cb1c",
       "rows": [
        [
         "0",
         "435.0",
         "549.2"
        ],
        [
         "1",
         "454.5",
         "630.2"
        ],
        [
         "2",
         "447.0",
         "437.2"
        ],
        [
         "3",
         "480.0",
         "637.2"
        ],
        [
         "4",
         "561.0",
         "712.4"
        ]
       ],
       "shape": {
        "columns": 2,
        "rows": 5
       }
      },
      "text/html": [
       "<div>\n",
       "<style scoped>\n",
       "    .dataframe tbody tr th:only-of-type {\n",
       "        vertical-align: middle;\n",
       "    }\n",
       "\n",
       "    .dataframe tbody tr th {\n",
       "        vertical-align: top;\n",
       "    }\n",
       "\n",
       "    .dataframe thead th {\n",
       "        text-align: right;\n",
       "    }\n",
       "</style>\n",
       "<table border=\"1\" class=\"dataframe\">\n",
       "  <thead>\n",
       "    <tr style=\"text-align: right;\">\n",
       "      <th></th>\n",
       "      <th>time(A)</th>\n",
       "      <th>time(B)</th>\n",
       "    </tr>\n",
       "  </thead>\n",
       "  <tbody>\n",
       "    <tr>\n",
       "      <th>0</th>\n",
       "      <td>435.0</td>\n",
       "      <td>549.2</td>\n",
       "    </tr>\n",
       "    <tr>\n",
       "      <th>1</th>\n",
       "      <td>454.5</td>\n",
       "      <td>630.2</td>\n",
       "    </tr>\n",
       "    <tr>\n",
       "      <th>2</th>\n",
       "      <td>447.0</td>\n",
       "      <td>437.2</td>\n",
       "    </tr>\n",
       "    <tr>\n",
       "      <th>3</th>\n",
       "      <td>480.0</td>\n",
       "      <td>637.2</td>\n",
       "    </tr>\n",
       "    <tr>\n",
       "      <th>4</th>\n",
       "      <td>561.0</td>\n",
       "      <td>712.4</td>\n",
       "    </tr>\n",
       "  </tbody>\n",
       "</table>\n",
       "</div>"
      ],
      "text/plain": [
       "   time(A)  time(B)\n",
       "0    435.0    549.2\n",
       "1    454.5    630.2\n",
       "2    447.0    437.2\n",
       "3    480.0    637.2\n",
       "4    561.0    712.4"
      ]
     },
     "metadata": {},
     "output_type": "display_data"
    }
   ],
   "source": [
    "time_data = pd.read_excel('data/time_data.xlsx')\n",
    "display(time_data.head())"
   ]
  },
  {
   "cell_type": "code",
   "execution_count": 31,
   "metadata": {},
   "outputs": [
    {
     "data": {
      "application/vnd.microsoft.datawrangler.viewer.v0+json": {
       "columns": [
        {
         "name": "index",
         "rawType": "object",
         "type": "string"
        },
        {
         "name": "time(A)",
         "rawType": "float64",
         "type": "float"
        },
        {
         "name": "time(B)",
         "rawType": "float64",
         "type": "float"
        }
       ],
       "conversionMethod": "pd.DataFrame",
       "ref": "c00c3356-64f9-4567-8c4e-30cd82379b80",
       "rows": [
        [
         "mean",
         "492.9",
         "595.4066666666666"
        ],
        [
         "median",
         "482.25",
         "600.4"
        ]
       ],
       "shape": {
        "columns": 2,
        "rows": 2
       }
      },
      "text/html": [
       "<div>\n",
       "<style scoped>\n",
       "    .dataframe tbody tr th:only-of-type {\n",
       "        vertical-align: middle;\n",
       "    }\n",
       "\n",
       "    .dataframe tbody tr th {\n",
       "        vertical-align: top;\n",
       "    }\n",
       "\n",
       "    .dataframe thead th {\n",
       "        text-align: right;\n",
       "    }\n",
       "</style>\n",
       "<table border=\"1\" class=\"dataframe\">\n",
       "  <thead>\n",
       "    <tr style=\"text-align: right;\">\n",
       "      <th></th>\n",
       "      <th>time(A)</th>\n",
       "      <th>time(B)</th>\n",
       "    </tr>\n",
       "  </thead>\n",
       "  <tbody>\n",
       "    <tr>\n",
       "      <th>mean</th>\n",
       "      <td>492.90</td>\n",
       "      <td>595.406667</td>\n",
       "    </tr>\n",
       "    <tr>\n",
       "      <th>median</th>\n",
       "      <td>482.25</td>\n",
       "      <td>600.400000</td>\n",
       "    </tr>\n",
       "  </tbody>\n",
       "</table>\n",
       "</div>"
      ],
      "text/plain": [
       "        time(A)     time(B)\n",
       "mean     492.90  595.406667\n",
       "median   482.25  600.400000"
      ]
     },
     "execution_count": 31,
     "metadata": {},
     "output_type": "execute_result"
    }
   ],
   "source": [
    "time_data[['time(A)', 'time(B)']].agg(['mean', 'median'])"
   ]
  },
  {
   "cell_type": "code",
   "execution_count": 32,
   "metadata": {},
   "outputs": [],
   "source": [
    "# создаём два графика размером 12x4\n",
    "fig, axes = plt.subplots(1, 2, figsize=(12, 4))\n",
    "# строим гистограмму для времени на сайте в каждой группе\n",
    "sns.histplot(x='time(A)', data=time_data, ax=axes[0])\n",
    "sns.histplot(x='time(B)', data=time_data, ax=axes[1])\n",
    "# задаём названия графикам\n",
    "axes[0].set_title('Распределение времени на сайте в группе А')\n",
    "axes[1].set_title('Распределение времени на сайте в группе B')\n",
    "plt.show()"
   ]
  },
  {
   "cell_type": "code",
   "execution_count": 33,
   "metadata": {},
   "outputs": [
    {
     "name": "stdout",
     "output_type": "stream",
     "text": [
      "p-value группы А 0.43\n",
      "p-value группы B 0.12\n",
      "Принимаем нулевую гипотезу. Распределение в группе А является нормальным\n",
      "Принимаем нулевую гипотезу. Распределение в группе B является нормальным\n"
     ]
    }
   ],
   "source": [
    "from scipy.stats import shapiro\n",
    "\n",
    "alpha = 0.05 # уровень значимости\n",
    "# вычисляем результат теста Шапиро — Уилка для выборок\n",
    "shapiro_result_a = shapiro(time_data['time(A)'])\n",
    "shapiro_result_b = shapiro(time_data['time(B)'])\n",
    "print('p-value группы А', round(shapiro_result_a.pvalue, 2))\n",
    "print('p-value группы B', round(shapiro_result_b.pvalue, 2))\n",
    "\n",
    "# сравниваем полученное p-value для группы А с уровнем значимости\n",
    "if shapiro_result_a.pvalue <= alpha:\n",
    "    print(\"Отвергаем нулевую гипотезу в пользу альтернативной. Распределение в группе А отлично от нормального\")\n",
    "else:\n",
    "    print(\"Принимаем нулевую гипотезу. Распределение в группе А является нормальным\")\n",
    "\n",
    "# сравниваем полученное p-value для группы B с уровнем значимости\n",
    "if shapiro_result_b.pvalue <= alpha:\n",
    "    print(\"Отвергаем нулевую гипотезу в пользу альтернативной. Распределение в группе B отлично от нормального\")\n",
    "else:\n",
    "    print(\"Принимаем нулевую гипотезу. Распределение в группе B является нормальным\")\n",
    "\n",
    "# p-value группы А 0.43\n",
    "# p-value группы B 0.12\n",
    "# Принимаем нулевую гипотезу. Распределение в группе А является нормальным\n",
    "# Принимаем нулевую гипотезу. Распределение в группе B является нормальным"
   ]
  },
  {
   "cell_type": "code",
   "execution_count": 34,
   "metadata": {},
   "outputs": [],
   "source": [
    "from scipy.stats import ttest_ind"
   ]
  },
  {
   "cell_type": "code",
   "execution_count": 35,
   "metadata": {},
   "outputs": [
    {
     "name": "stdout",
     "output_type": "stream",
     "text": [
      "p-value: 0.0\n",
      "Отвергаем нулевую гипотезу в пользу альтернативной\n"
     ]
    }
   ],
   "source": [
    "alpha = 0.05 #уровень значимости\n",
    "# вычисляем результат T-теста для выборок\n",
    "results = ttest_ind(\n",
    "    a=time_data['time(A)'],\n",
    "    b=time_data['time(B)'],\n",
    "    alternative='less'\n",
    ")\n",
    "print('p-value:', round(results.pvalue, 2))\n",
    "\n",
    "# сравниваем полученное p-value с уровнем значимости\n",
    "if results.pvalue <= alpha:\n",
    "    print(\"Отвергаем нулевую гипотезу в пользу альтернативной\")\n",
    "else:\n",
    "    print(\"У нас нет оснований отвергнуть нулевую гипотезу\")\n",
    "\n",
    "# p-value: 0.0\n",
    "# Отвергаем нулевую гипотезу в пользу альтернативной"
   ]
  },
  {
   "cell_type": "code",
   "execution_count": 36,
   "metadata": {},
   "outputs": [
    {
     "data": {
      "application/vnd.microsoft.datawrangler.viewer.v0+json": {
       "columns": [
        {
         "name": "index",
         "rawType": "int64",
         "type": "integer"
        },
        {
         "name": "date",
         "rawType": "datetime64[ns]",
         "type": "datetime"
        },
        {
         "name": "mean_check_a",
         "rawType": "float64",
         "type": "float"
        },
        {
         "name": "mean_check_b",
         "rawType": "float64",
         "type": "float"
        }
       ],
       "conversionMethod": "pd.DataFrame",
       "ref": "eaf0ce0d-eac2-43c2-ae5a-d2bc5db9c803",
       "rows": [
        [
         "0",
         "2020-11-06 00:00:00",
         "68701.23964916186",
         "88665.12332157104"
        ],
        [
         "1",
         "2020-11-07 00:00:00",
         "26136.30937492366",
         "46230.39489322861"
        ],
        [
         "2",
         "2020-11-08 00:00:00",
         "119470.7706555702",
         "139356.4514898377"
        ],
        [
         "3",
         "2020-11-09 00:00:00",
         "71110.88018797488",
         "90867.07319106726"
        ],
        [
         "4",
         "2020-11-10 00:00:00",
         "85896.02402189102",
         "105977.4735893532"
        ]
       ],
       "shape": {
        "columns": 3,
        "rows": 5
       }
      },
      "text/html": [
       "<div>\n",
       "<style scoped>\n",
       "    .dataframe tbody tr th:only-of-type {\n",
       "        vertical-align: middle;\n",
       "    }\n",
       "\n",
       "    .dataframe tbody tr th {\n",
       "        vertical-align: top;\n",
       "    }\n",
       "\n",
       "    .dataframe thead th {\n",
       "        text-align: right;\n",
       "    }\n",
       "</style>\n",
       "<table border=\"1\" class=\"dataframe\">\n",
       "  <thead>\n",
       "    <tr style=\"text-align: right;\">\n",
       "      <th></th>\n",
       "      <th>date</th>\n",
       "      <th>mean_check_a</th>\n",
       "      <th>mean_check_b</th>\n",
       "    </tr>\n",
       "  </thead>\n",
       "  <tbody>\n",
       "    <tr>\n",
       "      <th>0</th>\n",
       "      <td>2020-11-06</td>\n",
       "      <td>68701.239649</td>\n",
       "      <td>88665.123322</td>\n",
       "    </tr>\n",
       "    <tr>\n",
       "      <th>1</th>\n",
       "      <td>2020-11-07</td>\n",
       "      <td>26136.309375</td>\n",
       "      <td>46230.394893</td>\n",
       "    </tr>\n",
       "    <tr>\n",
       "      <th>2</th>\n",
       "      <td>2020-11-08</td>\n",
       "      <td>119470.770656</td>\n",
       "      <td>139356.451490</td>\n",
       "    </tr>\n",
       "    <tr>\n",
       "      <th>3</th>\n",
       "      <td>2020-11-09</td>\n",
       "      <td>71110.880188</td>\n",
       "      <td>90867.073191</td>\n",
       "    </tr>\n",
       "    <tr>\n",
       "      <th>4</th>\n",
       "      <td>2020-11-10</td>\n",
       "      <td>85896.024022</td>\n",
       "      <td>105977.473589</td>\n",
       "    </tr>\n",
       "  </tbody>\n",
       "</table>\n",
       "</div>"
      ],
      "text/plain": [
       "        date   mean_check_a   mean_check_b\n",
       "0 2020-11-06   68701.239649   88665.123322\n",
       "1 2020-11-07   26136.309375   46230.394893\n",
       "2 2020-11-08  119470.770656  139356.451490\n",
       "3 2020-11-09   71110.880188   90867.073191\n",
       "4 2020-11-10   85896.024022  105977.473589"
      ]
     },
     "execution_count": 36,
     "metadata": {},
     "output_type": "execute_result"
    }
   ],
   "source": [
    "check_data = pd.read_excel('data/check_data.xlsx')\n",
    "check_data.head()"
   ]
  },
  {
   "cell_type": "code",
   "execution_count": 37,
   "metadata": {},
   "outputs": [
    {
     "data": {
      "application/vnd.microsoft.datawrangler.viewer.v0+json": {
       "columns": [
        {
         "name": "index",
         "rawType": "object",
         "type": "string"
        },
        {
         "name": "mean_check_a",
         "rawType": "float64",
         "type": "float"
        },
        {
         "name": "mean_check_b",
         "rawType": "float64",
         "type": "float"
        }
       ],
       "conversionMethod": "pd.DataFrame",
       "ref": "483c5650-7b28-4268-8d4d-90b7e72cc3cf",
       "rows": [
        [
         "mean",
         "76684.76307078946",
         "96658.89730387506"
        ],
        [
         "median",
         "62883.70779315835",
         "82854.20146661851"
        ]
       ],
       "shape": {
        "columns": 2,
        "rows": 2
       }
      },
      "text/html": [
       "<div>\n",
       "<style scoped>\n",
       "    .dataframe tbody tr th:only-of-type {\n",
       "        vertical-align: middle;\n",
       "    }\n",
       "\n",
       "    .dataframe tbody tr th {\n",
       "        vertical-align: top;\n",
       "    }\n",
       "\n",
       "    .dataframe thead th {\n",
       "        text-align: right;\n",
       "    }\n",
       "</style>\n",
       "<table border=\"1\" class=\"dataframe\">\n",
       "  <thead>\n",
       "    <tr style=\"text-align: right;\">\n",
       "      <th></th>\n",
       "      <th>mean_check_a</th>\n",
       "      <th>mean_check_b</th>\n",
       "    </tr>\n",
       "  </thead>\n",
       "  <tbody>\n",
       "    <tr>\n",
       "      <th>mean</th>\n",
       "      <td>76684.763071</td>\n",
       "      <td>96658.897304</td>\n",
       "    </tr>\n",
       "    <tr>\n",
       "      <th>median</th>\n",
       "      <td>62883.707793</td>\n",
       "      <td>82854.201467</td>\n",
       "    </tr>\n",
       "  </tbody>\n",
       "</table>\n",
       "</div>"
      ],
      "text/plain": [
       "        mean_check_a  mean_check_b\n",
       "mean    76684.763071  96658.897304\n",
       "median  62883.707793  82854.201467"
      ]
     },
     "execution_count": 37,
     "metadata": {},
     "output_type": "execute_result"
    }
   ],
   "source": [
    "check_data[['mean_check_a', 'mean_check_b']].agg(['mean', 'median'])"
   ]
  },
  {
   "cell_type": "code",
   "execution_count": 38,
   "metadata": {},
   "outputs": [],
   "source": [
    "# создаём два графика размером 12x4\n",
    "fig, axes = plt.subplots(1, 2, figsize=(12, 4))\n",
    "# строим гистограмму для времени на сайте в каждой группе\n",
    "sns.histplot(x='mean_check_a', data=check_data, ax=axes[0])\n",
    "sns.histplot(x='mean_check_b', data=check_data, ax=axes[1])\n",
    "# задаём названия графикам\n",
    "axes[0].set_title('Распределение времени на сайте в группе А')\n",
    "axes[1].set_title('Распределение времени на сайте в группе B')\n",
    "plt.show()"
   ]
  },
  {
   "cell_type": "code",
   "execution_count": 39,
   "metadata": {},
   "outputs": [],
   "source": [
    "from scipy.stats import mannwhitneyu"
   ]
  },
  {
   "cell_type": "code",
   "execution_count": 40,
   "metadata": {},
   "outputs": [
    {
     "name": "stdout",
     "output_type": "stream",
     "text": [
      "p-value: 0.06\n",
      "У нас нет оснований отвергнуть нулевую гипотезу\n"
     ]
    }
   ],
   "source": [
    "alpha = 0.05 # уровень значимости\n",
    "\n",
    "# вычисляем результат теста Манна — Уитни для выборок\n",
    "results = mannwhitneyu(\n",
    "    x=check_data['mean_check_a'],\n",
    "    y=check_data['mean_check_b'],\n",
    "    alternative='two-sided'\n",
    ")\n",
    "print('p-value:', round(results.pvalue, 2))\n",
    "\n",
    "# сравниваем полученное p-value с уровнем значимости\n",
    "if results.pvalue <= alpha:\n",
    "    print(\"Отвергаем нулевую гипотезу в пользу альтернативной\")\n",
    "else:\n",
    "    print(\"У нас нет оснований отвергнуть нулевую гипотезу\")\n",
    "\n",
    "# p-value: 0.06\n",
    "# У нас нет оснований отвергнуть нулевую гипотезу"
   ]
  },
  {
   "cell_type": "code",
   "execution_count": 41,
   "metadata": {},
   "outputs": [
    {
     "name": "stdout",
     "output_type": "stream",
     "text": [
      "p-value: 0.03\n",
      "Отвергаем нулевую гипотезу в пользу альтернативной\n"
     ]
    }
   ],
   "source": [
    "alpha = 0.05 # уровень значимости\n",
    "\n",
    "# вычисляем результат теста Манна — Уитни для выборок\n",
    "results = mannwhitneyu(\n",
    "    x=check_data['mean_check_a'],\n",
    "    y=check_data['mean_check_b'],\n",
    "    alternative='less' # изменили альтернативную гипотезу\n",
    ")\n",
    "print('p-value:', round(results.pvalue, 2))\n",
    "\n",
    "# сравниваем полученное p-value с уровнем значимости\n",
    "if results.pvalue <= alpha:\n",
    "    print(\"Отвергаем нулевую гипотезу в пользу альтернативной\")\n",
    "else:\n",
    "    print(\"У нас нет оснований отвергнуть нулевую гипотезу\")\n",
    "\n",
    "# p-value: 0.03\n",
    "# Отвергаем нулевую гипотезу в пользу альтернативной"
   ]
  },
  {
   "cell_type": "code",
   "execution_count": 42,
   "metadata": {},
   "outputs": [
    {
     "data": {
      "application/vnd.microsoft.datawrangler.viewer.v0+json": {
       "columns": [
        {
         "name": "index",
         "rawType": "int64",
         "type": "integer"
        },
        {
         "name": "date",
         "rawType": "datetime64[ns]",
         "type": "datetime"
        },
        {
         "name": "cid",
         "rawType": "float64",
         "type": "float"
        },
        {
         "name": "transactions",
         "rawType": "int64",
         "type": "integer"
        },
        {
         "name": "revenue",
         "rawType": "int64",
         "type": "integer"
        },
        {
         "name": "group",
         "rawType": "object",
         "type": "string"
        }
       ],
       "conversionMethod": "pd.DataFrame",
       "ref": "23b6050b-b4f2-477c-9e09-7a69ccce3ed4",
       "rows": [
        [
         "0",
         "2020-11-06 00:00:00",
         "1001647767.1604671",
         "0",
         "0",
         "A"
        ],
        [
         "1",
         "2020-11-06 00:00:00",
         "1001936214.160466",
         "0",
         "0",
         "A"
        ],
        [
         "2",
         "2020-11-06 00:00:00",
         "100321440.16039038",
         "0",
         "0",
         "A"
        ],
        [
         "3",
         "2020-11-06 00:00:00",
         "1004392551.1603712",
         "0",
         "0",
         "A"
        ],
        [
         "4",
         "2020-11-06 00:00:00",
         "1006382383.160468",
         "0",
         "0",
         "A"
        ],
        [
         "5",
         "2020-11-06 00:00:00",
         "1006437036.1604648",
         "0",
         "0",
         "A"
        ],
        [
         "6",
         "2020-11-06 00:00:00",
         "1009416849.1603812",
         "0",
         "0",
         "A"
        ],
        [
         "7",
         "2020-11-06 00:00:00",
         "1010496871.1604664",
         "0",
         "0",
         "A"
        ],
        [
         "8",
         "2020-11-06 00:00:00",
         "1011763867.160466",
         "0",
         "0",
         "A"
        ],
        [
         "9",
         "2020-11-06 00:00:00",
         "1012667344.1604664",
         "0",
         "0",
         "A"
        ],
        [
         "10",
         "2020-11-06 00:00:00",
         "1013043354.1604676",
         "0",
         "0",
         "A"
        ],
        [
         "11",
         "2020-11-06 00:00:00",
         "1013290189.1604668",
         "0",
         "0",
         "A"
        ],
        [
         "12",
         "2020-11-06 00:00:00",
         "1013484987.1604136",
         "0",
         "0",
         "A"
        ],
        [
         "13",
         "2020-11-06 00:00:00",
         "1014060788.1604682",
         "0",
         "0",
         "A"
        ],
        [
         "14",
         "2020-11-06 00:00:00",
         "1016235738.1603992",
         "0",
         "0",
         "A"
        ],
        [
         "15",
         "2020-11-06 00:00:00",
         "1017699236.1604652",
         "0",
         "0",
         "A"
        ],
        [
         "16",
         "2020-11-06 00:00:00",
         "101835147.15948144",
         "0",
         "0",
         "A"
        ],
        [
         "17",
         "2020-11-06 00:00:00",
         "1018680845.1604685",
         "0",
         "0",
         "A"
        ],
        [
         "18",
         "2020-11-06 00:00:00",
         "1020812820.1603876",
         "0",
         "0",
         "A"
        ],
        [
         "19",
         "2020-11-06 00:00:00",
         "1021155394.1603132",
         "0",
         "0",
         "A"
        ],
        [
         "20",
         "2020-11-06 00:00:00",
         "1022516773.1604652",
         "0",
         "0",
         "A"
        ],
        [
         "21",
         "2020-11-06 00:00:00",
         "102275876.16046926",
         "0",
         "0",
         "A"
        ],
        [
         "22",
         "2020-11-06 00:00:00",
         "1022961366.160392",
         "0",
         "0",
         "A"
        ],
        [
         "23",
         "2020-11-06 00:00:00",
         "1023153518.159662",
         "0",
         "0",
         "A"
        ],
        [
         "24",
         "2020-11-06 00:00:00",
         "1024060540.1604656",
         "0",
         "0",
         "A"
        ],
        [
         "25",
         "2020-11-06 00:00:00",
         "1025527981.160468",
         "0",
         "0",
         "A"
        ],
        [
         "26",
         "2020-11-06 00:00:00",
         "1026142885.1600702",
         "0",
         "0",
         "A"
        ],
        [
         "27",
         "2020-11-06 00:00:00",
         "1026338868.1604682",
         "0",
         "0",
         "A"
        ],
        [
         "28",
         "2020-11-06 00:00:00",
         "1027154026.1604688",
         "0",
         "0",
         "A"
        ],
        [
         "29",
         "2020-11-06 00:00:00",
         "1028004305.160462",
         "0",
         "0",
         "A"
        ],
        [
         "30",
         "2020-11-06 00:00:00",
         "1028048654.1604668",
         "0",
         "0",
         "A"
        ],
        [
         "31",
         "2020-11-06 00:00:00",
         "1029075394.1604692",
         "0",
         "0",
         "A"
        ],
        [
         "32",
         "2020-11-06 00:00:00",
         "1029226384.1604648",
         "0",
         "0",
         "A"
        ],
        [
         "33",
         "2020-11-06 00:00:00",
         "1029897254.1604688",
         "0",
         "0",
         "A"
        ],
        [
         "34",
         "2020-11-06 00:00:00",
         "1030297752.1604692",
         "0",
         "0",
         "A"
        ],
        [
         "35",
         "2020-11-06 00:00:00",
         "103045797.16046524",
         "0",
         "0",
         "A"
        ],
        [
         "36",
         "2020-11-06 00:00:00",
         "1030958469.1604664",
         "0",
         "0",
         "A"
        ],
        [
         "37",
         "2020-11-06 00:00:00",
         "1031101987.1604644",
         "0",
         "0",
         "A"
        ],
        [
         "38",
         "2020-11-06 00:00:00",
         "1033177098.1604568",
         "0",
         "0",
         "A"
        ],
        [
         "39",
         "2020-11-06 00:00:00",
         "1033402607.1604612",
         "0",
         "0",
         "A"
        ],
        [
         "40",
         "2020-11-06 00:00:00",
         "1034796545.1604692",
         "0",
         "0",
         "A"
        ],
        [
         "41",
         "2020-11-06 00:00:00",
         "103516301.1604649",
         "0",
         "0",
         "A"
        ],
        [
         "42",
         "2020-11-06 00:00:00",
         "1035514488.1604688",
         "0",
         "0",
         "A"
        ],
        [
         "43",
         "2020-11-06 00:00:00",
         "1036059932.1603574",
         "0",
         "0",
         "A"
        ],
        [
         "44",
         "2020-11-06 00:00:00",
         "1038091457.1604664",
         "0",
         "0",
         "A"
        ],
        [
         "45",
         "2020-11-06 00:00:00",
         "1039560295.160252",
         "0",
         "0",
         "A"
        ],
        [
         "46",
         "2020-11-06 00:00:00",
         "1039672930.1604612",
         "0",
         "0",
         "A"
        ],
        [
         "47",
         "2020-11-06 00:00:00",
         "1041648837.1604697",
         "0",
         "0",
         "A"
        ],
        [
         "48",
         "2020-11-06 00:00:00",
         "104201369.1604674",
         "0",
         "0",
         "A"
        ],
        [
         "49",
         "2020-11-06 00:00:00",
         "1042500488.1604228",
         "0",
         "0",
         "A"
        ]
       ],
       "shape": {
        "columns": 5,
        "rows": 61571
       }
      },
      "text/html": [
       "<div>\n",
       "<style scoped>\n",
       "    .dataframe tbody tr th:only-of-type {\n",
       "        vertical-align: middle;\n",
       "    }\n",
       "\n",
       "    .dataframe tbody tr th {\n",
       "        vertical-align: top;\n",
       "    }\n",
       "\n",
       "    .dataframe thead th {\n",
       "        text-align: right;\n",
       "    }\n",
       "</style>\n",
       "<table border=\"1\" class=\"dataframe\">\n",
       "  <thead>\n",
       "    <tr style=\"text-align: right;\">\n",
       "      <th></th>\n",
       "      <th>date</th>\n",
       "      <th>cid</th>\n",
       "      <th>transactions</th>\n",
       "      <th>revenue</th>\n",
       "      <th>group</th>\n",
       "    </tr>\n",
       "  </thead>\n",
       "  <tbody>\n",
       "    <tr>\n",
       "      <th>0</th>\n",
       "      <td>2020-11-06</td>\n",
       "      <td>1.001648e+09</td>\n",
       "      <td>0</td>\n",
       "      <td>0</td>\n",
       "      <td>A</td>\n",
       "    </tr>\n",
       "    <tr>\n",
       "      <th>1</th>\n",
       "      <td>2020-11-06</td>\n",
       "      <td>1.001936e+09</td>\n",
       "      <td>0</td>\n",
       "      <td>0</td>\n",
       "      <td>A</td>\n",
       "    </tr>\n",
       "    <tr>\n",
       "      <th>2</th>\n",
       "      <td>2020-11-06</td>\n",
       "      <td>1.003214e+08</td>\n",
       "      <td>0</td>\n",
       "      <td>0</td>\n",
       "      <td>A</td>\n",
       "    </tr>\n",
       "    <tr>\n",
       "      <th>3</th>\n",
       "      <td>2020-11-06</td>\n",
       "      <td>1.004393e+09</td>\n",
       "      <td>0</td>\n",
       "      <td>0</td>\n",
       "      <td>A</td>\n",
       "    </tr>\n",
       "    <tr>\n",
       "      <th>4</th>\n",
       "      <td>2020-11-06</td>\n",
       "      <td>1.006382e+09</td>\n",
       "      <td>0</td>\n",
       "      <td>0</td>\n",
       "      <td>A</td>\n",
       "    </tr>\n",
       "    <tr>\n",
       "      <th>...</th>\n",
       "      <td>...</td>\n",
       "      <td>...</td>\n",
       "      <td>...</td>\n",
       "      <td>...</td>\n",
       "      <td>...</td>\n",
       "    </tr>\n",
       "    <tr>\n",
       "      <th>61566</th>\n",
       "      <td>2020-11-23</td>\n",
       "      <td>9.986289e+08</td>\n",
       "      <td>0</td>\n",
       "      <td>0</td>\n",
       "      <td>A</td>\n",
       "    </tr>\n",
       "    <tr>\n",
       "      <th>61567</th>\n",
       "      <td>2020-11-23</td>\n",
       "      <td>9.989196e+08</td>\n",
       "      <td>0</td>\n",
       "      <td>0</td>\n",
       "      <td>A</td>\n",
       "    </tr>\n",
       "    <tr>\n",
       "      <th>61568</th>\n",
       "      <td>2020-11-23</td>\n",
       "      <td>9.990631e+08</td>\n",
       "      <td>0</td>\n",
       "      <td>0</td>\n",
       "      <td>A</td>\n",
       "    </tr>\n",
       "    <tr>\n",
       "      <th>61569</th>\n",
       "      <td>2020-11-23</td>\n",
       "      <td>9.994210e+07</td>\n",
       "      <td>0</td>\n",
       "      <td>0</td>\n",
       "      <td>A</td>\n",
       "    </tr>\n",
       "    <tr>\n",
       "      <th>61570</th>\n",
       "      <td>2020-11-23</td>\n",
       "      <td>9.994748e+08</td>\n",
       "      <td>0</td>\n",
       "      <td>0</td>\n",
       "      <td>A</td>\n",
       "    </tr>\n",
       "  </tbody>\n",
       "</table>\n",
       "<p>61571 rows × 5 columns</p>\n",
       "</div>"
      ],
      "text/plain": [
       "            date           cid  transactions  revenue group\n",
       "0     2020-11-06  1.001648e+09             0        0     A\n",
       "1     2020-11-06  1.001936e+09             0        0     A\n",
       "2     2020-11-06  1.003214e+08             0        0     A\n",
       "3     2020-11-06  1.004393e+09             0        0     A\n",
       "4     2020-11-06  1.006382e+09             0        0     A\n",
       "...          ...           ...           ...      ...   ...\n",
       "61566 2020-11-23  9.986289e+08             0        0     A\n",
       "61567 2020-11-23  9.989196e+08             0        0     A\n",
       "61568 2020-11-23  9.990631e+08             0        0     A\n",
       "61569 2020-11-23  9.994210e+07             0        0     A\n",
       "61570 2020-11-23  9.994748e+08             0        0     A\n",
       "\n",
       "[61571 rows x 5 columns]"
      ]
     },
     "execution_count": 42,
     "metadata": {},
     "output_type": "execute_result"
    }
   ],
   "source": [
    "sample_a = pd.read_csv('data/ab_test-redesign_sample_a.csv')\n",
    "sample_b = pd.read_csv('data/ab_test-redesign_sample_b.csv')\n",
    "\n",
    "# преобразуем тип столбца date к типу datetime\n",
    "sample_a['date'] = pd.to_datetime(sample_a['date'])\n",
    "sample_b['date'] = pd.to_datetime(sample_b['date'])\n",
    "\n",
    "sample_a"
   ]
  },
  {
   "cell_type": "code",
   "execution_count": 43,
   "metadata": {},
   "outputs": [
    {
     "name": "stdout",
     "output_type": "stream",
     "text": [
      "             date           cid  transactions  revenue group\n",
      "0      2020-11-06  1.001648e+09             0        0     A\n",
      "1      2020-11-06  1.001936e+09             0        0     A\n",
      "2      2020-11-06  1.003214e+08             0        0     A\n",
      "3      2020-11-06  1.004393e+09             0        0     A\n",
      "4      2020-11-06  1.006382e+09             0        0     A\n",
      "...           ...           ...           ...      ...   ...\n",
      "122949 2020-11-23  9.965675e+08             0        0     B\n",
      "122950 2020-11-23  9.970803e+07             0        0     B\n",
      "122951 2020-11-23  9.984814e+08             0        0     B\n",
      "122952 2020-11-23  9.991118e+08             0        0     B\n",
      "122953 2020-11-23  9.994657e+08             0        0     B\n",
      "\n",
      "[122954 rows x 5 columns]\n"
     ]
    }
   ],
   "source": [
    "# Объединение DataFrame по строкам с использованием concat\n",
    "sample = pd.concat([sample_a, sample_b], ignore_index=True)\n",
    "print(sample)"
   ]
  },
  {
   "cell_type": "code",
   "execution_count": 44,
   "metadata": {},
   "outputs": [
    {
     "data": {
      "application/vnd.microsoft.datawrangler.viewer.v0+json": {
       "columns": [
        {
         "name": "group",
         "rawType": "object",
         "type": "string"
        },
        {
         "name": "sum",
         "rawType": "int64",
         "type": "integer"
        },
        {
         "name": "count",
         "rawType": "int64",
         "type": "integer"
        }
       ],
       "conversionMethod": "pd.DataFrame",
       "ref": "6f91fdd0-6071-4b94-8c23-64f2948df3e2",
       "rows": [
        [
         "A",
         "441",
         "61571"
        ],
        [
         "B",
         "463",
         "61383"
        ]
       ],
       "shape": {
        "columns": 2,
        "rows": 2
       }
      },
      "text/html": [
       "<div>\n",
       "<style scoped>\n",
       "    .dataframe tbody tr th:only-of-type {\n",
       "        vertical-align: middle;\n",
       "    }\n",
       "\n",
       "    .dataframe tbody tr th {\n",
       "        vertical-align: top;\n",
       "    }\n",
       "\n",
       "    .dataframe thead th {\n",
       "        text-align: right;\n",
       "    }\n",
       "</style>\n",
       "<table border=\"1\" class=\"dataframe\">\n",
       "  <thead>\n",
       "    <tr style=\"text-align: right;\">\n",
       "      <th></th>\n",
       "      <th>sum</th>\n",
       "      <th>count</th>\n",
       "    </tr>\n",
       "    <tr>\n",
       "      <th>group</th>\n",
       "      <th></th>\n",
       "      <th></th>\n",
       "    </tr>\n",
       "  </thead>\n",
       "  <tbody>\n",
       "    <tr>\n",
       "      <th>A</th>\n",
       "      <td>441</td>\n",
       "      <td>61571</td>\n",
       "    </tr>\n",
       "    <tr>\n",
       "      <th>B</th>\n",
       "      <td>463</td>\n",
       "      <td>61383</td>\n",
       "    </tr>\n",
       "  </tbody>\n",
       "</table>\n",
       "</div>"
      ],
      "text/plain": [
       "       sum  count\n",
       "group            \n",
       "A      441  61571\n",
       "B      463  61383"
      ]
     },
     "metadata": {},
     "output_type": "display_data"
    }
   ],
   "source": [
    "from statsmodels.stats.proportion import proportions_ztest\n",
    "\n",
    "converted_piv= sample.groupby('group')['transactions'].agg(\n",
    "    ['sum', 'count']\n",
    ")\n",
    "display(converted_piv)\n"
   ]
  },
  {
   "cell_type": "code",
   "execution_count": 45,
   "metadata": {},
   "outputs": [
    {
     "name": "stdout",
     "output_type": "stream",
     "text": [
      "p-value:  0.218\n",
      "У нас нет оснований отвергнуть нулевую гипотезу\n"
     ]
    }
   ],
   "source": [
    "alpha = 0.05 # уровень значимости\n",
    "# вычисляем значение p-value для z-теста для пропорций\n",
    "_, p_value = proportions_ztest(\n",
    "    count=converted_piv['sum'], #число «успехов»\n",
    "    nobs=converted_piv['count'], #общее число наблюдений\n",
    "    alternative='smaller',\n",
    ")\n",
    "# выводим результат на экран\n",
    "print('p-value: ', round(p_value, 3))\n",
    "# сравниваем полученное p-value с уровнем значимости\n",
    "if (p_value <= alpha):\n",
    "    print(\"Отвергаем нулевую гипотезу в пользу альтернативной\")\n",
    "else:\n",
    "    print(\"У нас нет оснований отвергнуть нулевую гипотезу\")"
   ]
  },
  {
   "cell_type": "code",
   "execution_count": 46,
   "metadata": {},
   "outputs": [],
   "source": [
    "daily_sample_a = sample_a.groupby('date')[['transactions', 'revenue']].sum()\n",
    "daily_sample_a['mean_check'] = daily_sample_a['revenue']/daily_sample_a['transactions']\n",
    "daily_sample_b = sample_b.groupby('date')[['transactions', 'revenue']].sum()\n",
    "daily_sample_b['mean_check'] = daily_sample_b['revenue']/daily_sample_a['transactions']"
   ]
  },
  {
   "cell_type": "code",
   "execution_count": 47,
   "metadata": {},
   "outputs": [
    {
     "data": {
      "application/vnd.microsoft.datawrangler.viewer.v0+json": {
       "columns": [
        {
         "name": "date",
         "rawType": "datetime64[ns]",
         "type": "datetime"
        },
        {
         "name": "transactions",
         "rawType": "int64",
         "type": "integer"
        },
        {
         "name": "revenue",
         "rawType": "int64",
         "type": "integer"
        },
        {
         "name": "mean_check",
         "rawType": "float64",
         "type": "float"
        }
       ],
       "conversionMethod": "pd.DataFrame",
       "ref": "279d6e6b-dd3d-4d9a-b78b-d4a0cf1e284c",
       "rows": [
        [
         "2020-11-06 00:00:00",
         "16",
         "1577279",
         "98579.9375"
        ],
        [
         "2020-11-07 00:00:00",
         "23",
         "1721886",
         "74864.60869565218"
        ],
        [
         "2020-11-08 00:00:00",
         "25",
         "846051",
         "33842.04"
        ],
        [
         "2020-11-09 00:00:00",
         "18",
         "708830",
         "39379.444444444445"
        ],
        [
         "2020-11-10 00:00:00",
         "29",
         "826984",
         "28516.689655172413"
        ],
        [
         "2020-11-11 00:00:00",
         "19",
         "1209656",
         "63666.10526315789"
        ],
        [
         "2020-11-12 00:00:00",
         "19",
         "607839",
         "31991.526315789473"
        ],
        [
         "2020-11-13 00:00:00",
         "36",
         "1338816",
         "37189.333333333336"
        ],
        [
         "2020-11-14 00:00:00",
         "30",
         "2659277",
         "88642.56666666667"
        ],
        [
         "2020-11-15 00:00:00",
         "27",
         "1189970",
         "44072.96296296296"
        ],
        [
         "2020-11-16 00:00:00",
         "30",
         "4213774",
         "140459.13333333333"
        ],
        [
         "2020-11-17 00:00:00",
         "21",
         "1779293",
         "84728.23809523809"
        ],
        [
         "2020-11-18 00:00:00",
         "20",
         "939301",
         "46965.05"
        ],
        [
         "2020-11-19 00:00:00",
         "26",
         "2166766",
         "83337.15384615384"
        ],
        [
         "2020-11-20 00:00:00",
         "25",
         "1119974",
         "44798.96"
        ],
        [
         "2020-11-21 00:00:00",
         "18",
         "939670",
         "52203.88888888889"
        ],
        [
         "2020-11-22 00:00:00",
         "33",
         "1205426",
         "36528.06060606061"
        ],
        [
         "2020-11-23 00:00:00",
         "26",
         "858274",
         "33010.53846153846"
        ]
       ],
       "shape": {
        "columns": 3,
        "rows": 18
       }
      },
      "text/html": [
       "<div>\n",
       "<style scoped>\n",
       "    .dataframe tbody tr th:only-of-type {\n",
       "        vertical-align: middle;\n",
       "    }\n",
       "\n",
       "    .dataframe tbody tr th {\n",
       "        vertical-align: top;\n",
       "    }\n",
       "\n",
       "    .dataframe thead th {\n",
       "        text-align: right;\n",
       "    }\n",
       "</style>\n",
       "<table border=\"1\" class=\"dataframe\">\n",
       "  <thead>\n",
       "    <tr style=\"text-align: right;\">\n",
       "      <th></th>\n",
       "      <th>transactions</th>\n",
       "      <th>revenue</th>\n",
       "      <th>mean_check</th>\n",
       "    </tr>\n",
       "    <tr>\n",
       "      <th>date</th>\n",
       "      <th></th>\n",
       "      <th></th>\n",
       "      <th></th>\n",
       "    </tr>\n",
       "  </thead>\n",
       "  <tbody>\n",
       "    <tr>\n",
       "      <th>2020-11-06</th>\n",
       "      <td>16</td>\n",
       "      <td>1577279</td>\n",
       "      <td>98579.937500</td>\n",
       "    </tr>\n",
       "    <tr>\n",
       "      <th>2020-11-07</th>\n",
       "      <td>23</td>\n",
       "      <td>1721886</td>\n",
       "      <td>74864.608696</td>\n",
       "    </tr>\n",
       "    <tr>\n",
       "      <th>2020-11-08</th>\n",
       "      <td>25</td>\n",
       "      <td>846051</td>\n",
       "      <td>33842.040000</td>\n",
       "    </tr>\n",
       "    <tr>\n",
       "      <th>2020-11-09</th>\n",
       "      <td>18</td>\n",
       "      <td>708830</td>\n",
       "      <td>39379.444444</td>\n",
       "    </tr>\n",
       "    <tr>\n",
       "      <th>2020-11-10</th>\n",
       "      <td>29</td>\n",
       "      <td>826984</td>\n",
       "      <td>28516.689655</td>\n",
       "    </tr>\n",
       "    <tr>\n",
       "      <th>2020-11-11</th>\n",
       "      <td>19</td>\n",
       "      <td>1209656</td>\n",
       "      <td>63666.105263</td>\n",
       "    </tr>\n",
       "    <tr>\n",
       "      <th>2020-11-12</th>\n",
       "      <td>19</td>\n",
       "      <td>607839</td>\n",
       "      <td>31991.526316</td>\n",
       "    </tr>\n",
       "    <tr>\n",
       "      <th>2020-11-13</th>\n",
       "      <td>36</td>\n",
       "      <td>1338816</td>\n",
       "      <td>37189.333333</td>\n",
       "    </tr>\n",
       "    <tr>\n",
       "      <th>2020-11-14</th>\n",
       "      <td>30</td>\n",
       "      <td>2659277</td>\n",
       "      <td>88642.566667</td>\n",
       "    </tr>\n",
       "    <tr>\n",
       "      <th>2020-11-15</th>\n",
       "      <td>27</td>\n",
       "      <td>1189970</td>\n",
       "      <td>44072.962963</td>\n",
       "    </tr>\n",
       "    <tr>\n",
       "      <th>2020-11-16</th>\n",
       "      <td>30</td>\n",
       "      <td>4213774</td>\n",
       "      <td>140459.133333</td>\n",
       "    </tr>\n",
       "    <tr>\n",
       "      <th>2020-11-17</th>\n",
       "      <td>21</td>\n",
       "      <td>1779293</td>\n",
       "      <td>84728.238095</td>\n",
       "    </tr>\n",
       "    <tr>\n",
       "      <th>2020-11-18</th>\n",
       "      <td>20</td>\n",
       "      <td>939301</td>\n",
       "      <td>46965.050000</td>\n",
       "    </tr>\n",
       "    <tr>\n",
       "      <th>2020-11-19</th>\n",
       "      <td>26</td>\n",
       "      <td>2166766</td>\n",
       "      <td>83337.153846</td>\n",
       "    </tr>\n",
       "    <tr>\n",
       "      <th>2020-11-20</th>\n",
       "      <td>25</td>\n",
       "      <td>1119974</td>\n",
       "      <td>44798.960000</td>\n",
       "    </tr>\n",
       "    <tr>\n",
       "      <th>2020-11-21</th>\n",
       "      <td>18</td>\n",
       "      <td>939670</td>\n",
       "      <td>52203.888889</td>\n",
       "    </tr>\n",
       "    <tr>\n",
       "      <th>2020-11-22</th>\n",
       "      <td>33</td>\n",
       "      <td>1205426</td>\n",
       "      <td>36528.060606</td>\n",
       "    </tr>\n",
       "    <tr>\n",
       "      <th>2020-11-23</th>\n",
       "      <td>26</td>\n",
       "      <td>858274</td>\n",
       "      <td>33010.538462</td>\n",
       "    </tr>\n",
       "  </tbody>\n",
       "</table>\n",
       "</div>"
      ],
      "text/plain": [
       "            transactions  revenue     mean_check\n",
       "date                                            \n",
       "2020-11-06            16  1577279   98579.937500\n",
       "2020-11-07            23  1721886   74864.608696\n",
       "2020-11-08            25   846051   33842.040000\n",
       "2020-11-09            18   708830   39379.444444\n",
       "2020-11-10            29   826984   28516.689655\n",
       "2020-11-11            19  1209656   63666.105263\n",
       "2020-11-12            19   607839   31991.526316\n",
       "2020-11-13            36  1338816   37189.333333\n",
       "2020-11-14            30  2659277   88642.566667\n",
       "2020-11-15            27  1189970   44072.962963\n",
       "2020-11-16            30  4213774  140459.133333\n",
       "2020-11-17            21  1779293   84728.238095\n",
       "2020-11-18            20   939301   46965.050000\n",
       "2020-11-19            26  2166766   83337.153846\n",
       "2020-11-20            25  1119974   44798.960000\n",
       "2020-11-21            18   939670   52203.888889\n",
       "2020-11-22            33  1205426   36528.060606\n",
       "2020-11-23            26   858274   33010.538462"
      ]
     },
     "execution_count": 47,
     "metadata": {},
     "output_type": "execute_result"
    }
   ],
   "source": [
    "daily_sample_a"
   ]
  },
  {
   "cell_type": "code",
   "execution_count": 48,
   "metadata": {},
   "outputs": [
    {
     "name": "stdout",
     "output_type": "stream",
     "text": [
      "p-value группы А 0.01\n",
      "p-value группы B 0.03\n",
      "Отвергаем нулевую гипотезу в пользу альтернативной. Распределение в группе А отлично от нормального\n",
      "Отвергаем нулевую гипотезу в пользу альтернативной. Распределение в группе B отлично от нормального\n"
     ]
    }
   ],
   "source": [
    "from scipy.stats import shapiro\n",
    "\n",
    "alpha = 0.05 # уровень значимости\n",
    "# вычисляем результат теста Шапиро — Уилка для выборок\n",
    "shapiro_result_a = shapiro(daily_sample_a['mean_check'])\n",
    "shapiro_result_b = shapiro(daily_sample_b['mean_check'])\n",
    "print('p-value группы А', round(shapiro_result_a.pvalue, 2))\n",
    "print('p-value группы B', round(shapiro_result_b.pvalue, 2))\n",
    "\n",
    "# сравниваем полученное p-value для группы А с уровнем значимости\n",
    "if shapiro_result_a.pvalue <= alpha:\n",
    "    print(\"Отвергаем нулевую гипотезу в пользу альтернативной. Распределение в группе А отлично от нормального\")\n",
    "else:\n",
    "    print(\"Принимаем нулевую гипотезу. Распределение в группе А является нормальным\")\n",
    "\n",
    "# сравниваем полученное p-value для группы B с уровнем значимости\n",
    "if shapiro_result_b.pvalue <= alpha:\n",
    "    print(\"Отвергаем нулевую гипотезу в пользу альтернативной. Распределение в группе B отлично от нормального\")\n",
    "else:\n",
    "    print(\"Принимаем нулевую гипотезу. Распределение в группе B является нормальным\")\n",
    "\n",
    "# p-value группы А 0.43\n",
    "# p-value группы B 0.12\n",
    "# Принимаем нулевую гипотезу. Распределение в группе А является нормальным\n",
    "# Принимаем нулевую гипотезу. Распределение в группе B является нормальным"
   ]
  },
  {
   "cell_type": "code",
   "execution_count": 49,
   "metadata": {},
   "outputs": [
    {
     "name": "stdout",
     "output_type": "stream",
     "text": [
      "p-value: 0.06\n",
      "У нас нет оснований отвергнуть нулевую гипотезу\n"
     ]
    }
   ],
   "source": [
    "alpha = 0.05 # уровень значимости\n",
    "\n",
    "# вычисляем результат теста Манна — Уитни для выборок\n",
    "results = mannwhitneyu(\n",
    "    x=daily_sample_a['mean_check'],\n",
    "    y=daily_sample_b['mean_check'],\n",
    "    alternative='less' # изменили альтернативную гипотезу\n",
    ")\n",
    "print('p-value:', round(results.pvalue, 2))\n",
    "\n",
    "# сравниваем полученное p-value с уровнем значимости\n",
    "if results.pvalue <= alpha:\n",
    "    print(\"Отвергаем нулевую гипотезу в пользу альтернативной\")\n",
    "else:\n",
    "    print(\"У нас нет оснований отвергнуть нулевую гипотезу\")\n",
    "\n",
    "# p-value: 0.03\n",
    "# Отвергаем нулевую гипотезу в пользу альтернативной"
   ]
  },
  {
   "cell_type": "code",
   "execution_count": 50,
   "metadata": {},
   "outputs": [],
   "source": [
    "n = 36 # размер выборки\n",
    "x_mean = 16100 # выборочное среднее\n",
    "sigma = 12000 # истинное стандартное отклонение\n",
    "gamma = 0.95 # уровень надёжности\n",
    "alpha = 1 - gamma # уровень значимости"
   ]
  },
  {
   "cell_type": "code",
   "execution_count": 51,
   "metadata": {},
   "outputs": [
    {
     "name": "stdout",
     "output_type": "stream",
     "text": [
      "1.959963984540054\n"
     ]
    }
   ],
   "source": [
    "from scipy.stats import norm\n",
    "z_crit = -norm.ppf(alpha/2) # z-критическое\n",
    "print(z_crit)"
   ]
  },
  {
   "cell_type": "code",
   "execution_count": 52,
   "metadata": {},
   "outputs": [
    {
     "name": "stdout",
     "output_type": "stream",
     "text": [
      "Доверительный интервал: (12180, 20020)\n"
     ]
    }
   ],
   "source": [
    "def z_mean_conf_interval(x_mean, sigma, n, gamma=0.95):  \n",
    "    alpha = 1 - gamma  # уровень значимости\n",
    "    z_crit = -norm.ppf(alpha/2)  # z-критическое\n",
    "    eps = z_crit * sigma/(n ** 0.5) # погрешность\n",
    "    lower_bound = x_mean - eps  # левая (нижняя) граница\n",
    "    upper_bound = x_mean + eps  # правая (верхняя) граница\n",
    "    # возвращаем кортеж из границ интервала\n",
    "    return lower_bound, upper_bound\n",
    "\n",
    "# строим доверительный интервал для среднего при известном СКО\n",
    "lower_bound, upper_bound = z_mean_conf_interval(x_mean, sigma, n)\n",
    "\n",
    "# выводим результат\n",
    "print('Доверительный интервал: {}'.format((round(lower_bound), round(upper_bound))))"
   ]
  },
  {
   "cell_type": "code",
   "execution_count": 53,
   "metadata": {},
   "outputs": [],
   "source": [
    "n = 64 # размер выборки\n",
    "x_mean = 12.35 # выборочное среднее\n",
    "sigma = 2.4 # истинное стандартное отклонение\n",
    "gamma = 0.90 # уровень надёжности\n",
    "alpha = 1 - gamma # уровень значимости"
   ]
  },
  {
   "cell_type": "code",
   "execution_count": 54,
   "metadata": {},
   "outputs": [
    {
     "name": "stdout",
     "output_type": "stream",
     "text": [
      "Доверительный интервал: (np.float64(11.856543911914558), np.float64(12.843456088085441))\n"
     ]
    }
   ],
   "source": [
    "def z_mean_conf_interval(x_mean, sigma, n, gamma=gamma):  \n",
    "    alpha = 1 - gamma  # уровень значимости\n",
    "    z_crit = -norm.ppf(alpha/2)  # z-критическое\n",
    "    eps = z_crit * sigma/(n ** 0.5) # погрешность\n",
    "    lower_bound = x_mean - eps  # левая (нижняя) граница\n",
    "    upper_bound = x_mean + eps  # правая (верхняя) граница\n",
    "    # возвращаем кортеж из границ интервала\n",
    "    return lower_bound, upper_bound\n",
    "\n",
    "# строим доверительный интервал для среднего при известном СКО\n",
    "lower_bound, upper_bound = z_mean_conf_interval(x_mean, sigma, n)\n",
    "\n",
    "# выводим результат\n",
    "print('Доверительный интервал: {}'.format((lower_bound, upper_bound)))"
   ]
  },
  {
   "cell_type": "code",
   "execution_count": 55,
   "metadata": {},
   "outputs": [
    {
     "data": {
      "text/plain": [
       "np.float64(1.6448536269514729)"
      ]
     },
     "execution_count": 55,
     "metadata": {},
     "output_type": "execute_result"
    }
   ],
   "source": [
    "z_crit = -norm.ppf(alpha/2)\n",
    "z_crit"
   ]
  },
  {
   "cell_type": "code",
   "execution_count": 56,
   "metadata": {},
   "outputs": [],
   "source": [
    "n = 15 # размер выборки\n",
    "k = n - 1 # число степеней свободы\n",
    "x_mean = 2000 # выборочное среднее\n",
    "x_std = 400 # выборочное стандартное отклонение\n",
    "gamma = 0.95 # уровень надёжности\n",
    "alpha = 1 - gamma # уровень значимости"
   ]
  },
  {
   "cell_type": "code",
   "execution_count": 57,
   "metadata": {},
   "outputs": [
    {
     "name": "stdout",
     "output_type": "stream",
     "text": [
      "2.1447866879169273\n"
     ]
    }
   ],
   "source": [
    "from scipy.stats import t\n",
    "t_crit = -t.ppf(alpha/2, k) # t-критическое\n",
    "print(t_crit)\n",
    "# 2.1447866879169273"
   ]
  },
  {
   "cell_type": "code",
   "execution_count": 58,
   "metadata": {},
   "outputs": [
    {
     "name": "stdout",
     "output_type": "stream",
     "text": [
      "Доверительный интервал: (1778, 2222)\n"
     ]
    }
   ],
   "source": [
    "def t_mean_conf_interval(x_mean, x_std, n, gamma=0.95):  \n",
    "    alpha = 1 - gamma # уровень значимости\n",
    "    t_crit = -t.ppf(alpha/2, k) # t-критическое\n",
    "    eps = t_crit * x_std/(n ** 0.5) # погрешность\n",
    "    lower_bound = x_mean - eps # левая (нижняя) граница\n",
    "    upper_bound = x_mean + eps # правая (верхняя) граница\n",
    "    # возвращаем кортеж из границ интервала\n",
    "    return lower_bound, upper_bound\n",
    "\n",
    "# cтроим доверительный интервал для среднего при неизвестном СКО\n",
    "lower_bound, upper_bound = t_mean_conf_interval(x_mean, x_std, n)\n",
    "\n",
    "# выводим результат\n",
    "print('Доверительный интервал: {}'.format((round(lower_bound), round(upper_bound))))\n",
    "\n",
    "# Доверительный интервал: (1778, 2222)"
   ]
  },
  {
   "cell_type": "code",
   "execution_count": 59,
   "metadata": {},
   "outputs": [],
   "source": [
    "n = 25 # размер выборки\n",
    "k = n - 1 #00 число степеней свободы\n",
    "x_mean = 3540 # выборочное среднее\n",
    "x_std = 1150 # выборочное стандартное отклонение\n",
    "gamma = 0.90 # уровень надёжности\n",
    "alpha = 1 - gamma # уровень значимости"
   ]
  },
  {
   "cell_type": "code",
   "execution_count": 60,
   "metadata": {},
   "outputs": [
    {
     "name": "stdout",
     "output_type": "stream",
     "text": [
      "1.7108820799094284\n"
     ]
    }
   ],
   "source": [
    "from scipy.stats import t\n",
    "t_crit = -t.ppf(alpha/2, k) # t-критическое\n",
    "print(t_crit)\n",
    "# 2.1447866879169273"
   ]
  },
  {
   "cell_type": "code",
   "execution_count": 61,
   "metadata": {},
   "outputs": [
    {
     "name": "stdout",
     "output_type": "stream",
     "text": [
      "Доверительный интервал: (np.float64(3146.4971216208314), np.float64(3933.5028783791686))\n"
     ]
    }
   ],
   "source": [
    "def t_mean_conf_interval(x_mean, x_std, n, gamma=gamma):  \n",
    "    alpha = 1 - gamma # уровень значимости\n",
    "    t_crit = -t.ppf(alpha/2, k) # t-критическое\n",
    "    eps = t_crit * x_std/(n ** 0.5) # погрешность\n",
    "    lower_bound = x_mean - eps # левая (нижняя) граница\n",
    "    upper_bound = x_mean + eps # правая (верхняя) граница\n",
    "    # возвращаем кортеж из границ интервала\n",
    "    return lower_bound, upper_bound\n",
    "\n",
    "# cтроим доверительный интервал для среднего при неизвестном СКО\n",
    "lower_bound, upper_bound = t_mean_conf_interval(x_mean, x_std, n)\n",
    "\n",
    "# выводим результат\n",
    "print('Доверительный интервал: {}'.format((lower_bound, upper_bound)))\n",
    "\n",
    "# Доверительный интервал: (1778, 2222)"
   ]
  },
  {
   "cell_type": "code",
   "execution_count": 62,
   "metadata": {},
   "outputs": [
    {
     "data": {
      "application/vnd.microsoft.datawrangler.viewer.v0+json": {
       "columns": [
        {
         "name": "index",
         "rawType": "int64",
         "type": "integer"
        },
        {
         "name": "user_id",
         "rawType": "int64",
         "type": "integer"
        },
        {
         "name": "timestamp",
         "rawType": "object",
         "type": "string"
        },
        {
         "name": "group",
         "rawType": "object",
         "type": "string"
        },
        {
         "name": "converted",
         "rawType": "int64",
         "type": "integer"
        }
       ],
       "conversionMethod": "pd.DataFrame",
       "ref": "0a5abe5e-3261-4be4-95b9-b6ede284f6f1",
       "rows": [
        [
         "0",
         "851104",
         "2017-01-21",
         "A",
         "0"
        ],
        [
         "1",
         "804228",
         "2017-01-12",
         "A",
         "0"
        ],
        [
         "2",
         "661590",
         "2017-01-11",
         "B",
         "0"
        ],
        [
         "3",
         "853541",
         "2017-01-08",
         "B",
         "0"
        ],
        [
         "4",
         "864975",
         "2017-01-21",
         "A",
         "1"
        ]
       ],
       "shape": {
        "columns": 4,
        "rows": 5
       }
      },
      "text/html": [
       "<div>\n",
       "<style scoped>\n",
       "    .dataframe tbody tr th:only-of-type {\n",
       "        vertical-align: middle;\n",
       "    }\n",
       "\n",
       "    .dataframe tbody tr th {\n",
       "        vertical-align: top;\n",
       "    }\n",
       "\n",
       "    .dataframe thead th {\n",
       "        text-align: right;\n",
       "    }\n",
       "</style>\n",
       "<table border=\"1\" class=\"dataframe\">\n",
       "  <thead>\n",
       "    <tr style=\"text-align: right;\">\n",
       "      <th></th>\n",
       "      <th>user_id</th>\n",
       "      <th>timestamp</th>\n",
       "      <th>group</th>\n",
       "      <th>converted</th>\n",
       "    </tr>\n",
       "  </thead>\n",
       "  <tbody>\n",
       "    <tr>\n",
       "      <th>0</th>\n",
       "      <td>851104</td>\n",
       "      <td>2017-01-21</td>\n",
       "      <td>A</td>\n",
       "      <td>0</td>\n",
       "    </tr>\n",
       "    <tr>\n",
       "      <th>1</th>\n",
       "      <td>804228</td>\n",
       "      <td>2017-01-12</td>\n",
       "      <td>A</td>\n",
       "      <td>0</td>\n",
       "    </tr>\n",
       "    <tr>\n",
       "      <th>2</th>\n",
       "      <td>661590</td>\n",
       "      <td>2017-01-11</td>\n",
       "      <td>B</td>\n",
       "      <td>0</td>\n",
       "    </tr>\n",
       "    <tr>\n",
       "      <th>3</th>\n",
       "      <td>853541</td>\n",
       "      <td>2017-01-08</td>\n",
       "      <td>B</td>\n",
       "      <td>0</td>\n",
       "    </tr>\n",
       "    <tr>\n",
       "      <th>4</th>\n",
       "      <td>864975</td>\n",
       "      <td>2017-01-21</td>\n",
       "      <td>A</td>\n",
       "      <td>1</td>\n",
       "    </tr>\n",
       "  </tbody>\n",
       "</table>\n",
       "</div>"
      ],
      "text/plain": [
       "   user_id   timestamp group  converted\n",
       "0   851104  2017-01-21     A          0\n",
       "1   804228  2017-01-12     A          0\n",
       "2   661590  2017-01-11     B          0\n",
       "3   853541  2017-01-08     B          0\n",
       "4   864975  2017-01-21     A          1"
      ]
     },
     "execution_count": 62,
     "metadata": {},
     "output_type": "execute_result"
    }
   ],
   "source": [
    "ab_data = pd.read_csv('data/ab_data.csv')\n",
    "ab_data.head()"
   ]
  },
  {
   "cell_type": "code",
   "execution_count": 63,
   "metadata": {},
   "outputs": [],
   "source": [
    "# фильтруем данные группы А\n",
    "a_data = ab_data[ab_data['group'] == 'A']\n",
    "# фильтруем данные группы B\n",
    "b_data = ab_data[ab_data['group'] == 'B']"
   ]
  },
  {
   "cell_type": "code",
   "execution_count": 64,
   "metadata": {},
   "outputs": [],
   "source": [
    "def proportion_conf_interval(x_p, n, gamma=0.95):  \n",
    "    alpha = 1 - gamma # уровень значимости\n",
    "    z_crit = -norm.ppf(alpha/2) # z-критическое\n",
    "    eps = z_crit * (x_p * (1 - x_p) / n) ** 0.5 # погрешность\n",
    "    lower_bound = x_p - eps # левая (нижняя) граница\n",
    "    upper_bound = x_p + eps # правая (верхняя) граница\n",
    "    # возвращаем кортеж из границ интервала\n",
    "    return lower_bound, upper_bound"
   ]
  },
  {
   "cell_type": "code",
   "execution_count": 65,
   "metadata": {},
   "outputs": [
    {
     "name": "stdout",
     "output_type": "stream",
     "text": [
      "Доверительный интервал для конверсии в группе А: (np.float64(11.86), np.float64(12.19))\n",
      "Доверительный интервал для конверсии в группе B: (np.float64(11.7), np.float64(12.03))\n"
     ]
    }
   ],
   "source": [
    "# строим доверительный интервал для конверсии в группе А\n",
    "lower_bound_a, upper_bound_a  = proportion_conf_interval(\n",
    "    x_p=a_data['converted'].mean(), # выборочная пропорция\n",
    "    n=a_data['user_id'].count() # размер выборки\n",
    ")\n",
    "\n",
    "# строим доверительный интервал для конверсии в группе B\n",
    "lower_bound_b, upper_bound_b  = proportion_conf_interval(\n",
    "    x_p=b_data['converted'].mean(), # выборочная пропорция\n",
    "    n=b_data['user_id'].count() # размер выборки\n",
    ")\n",
    "\n",
    "# выводим результат\n",
    "print('Доверительный интервал для конверсии в группе А: {}'.format((round(lower_bound_a * 100, 2), round(upper_bound_a * 100, 2))))\n",
    "print('Доверительный интервал для конверсии в группе B: {}'.format((round(lower_bound_b * 100, 2), round(upper_bound_b * 100, 2))))\n",
    "\n",
    "# Доверительный интервал для конверсии группы А: (11.86, 12.19)\n",
    "# Доверительный интервал для конверсии группы B: (11.7, 12.03)"
   ]
  },
  {
   "cell_type": "code",
   "execution_count": 66,
   "metadata": {},
   "outputs": [],
   "source": [
    "def diff_proportion_conf_interval(x_p, n, gamma=0.95):\n",
    "    alpha = 1 - gamma # уровень значимости\n",
    "    diff = x_p[1] - x_p[0] # выборочная разница конверсий групп B и A\n",
    "    z_crit = -norm.ppf(alpha/2) #z-критическое\n",
    "    eps = z_crit * (x_p[0] * (1 - x_p[0])/n[0] + x_p[1] * (1 - x_p[1])/n[1]) ** 0.5 # погрешность\n",
    "    lower_bound = diff - eps # левая (нижняя) граница\n",
    "    upper_bound = diff + eps # правая (верхняя) граница\n",
    "    # возвращаем кортеж из  границ интервала\n",
    "    return lower_bound, upper_bound"
   ]
  },
  {
   "cell_type": "code",
   "execution_count": 67,
   "metadata": {},
   "outputs": [
    {
     "name": "stdout",
     "output_type": "stream",
     "text": [
      "Доверительный интервал для разности конверсий: (np.float64(-0.39), np.float64(0.08))\n"
     ]
    }
   ],
   "source": [
    "# размеры выборок групп А и B\n",
    "n = [a_data['user_id'].count(), b_data['user_id'].count()]\n",
    "# выборочная пропорция групп A и B\n",
    "x_p = [a_data['converted'].mean(), b_data['converted'].mean()]\n",
    "\n",
    "\n",
    "# строим доверительный интервал для разности пропорций\n",
    "lower_bound, upper_bound = diff_proportion_conf_interval(x_p=x_p, n=n)\n",
    "\n",
    "\n",
    "# выводим результат\n",
    "\n",
    "print('Доверительный интервал для разности конверсий: {}'.format((round(lower_bound*100, 2), round(upper_bound*100, 2))))"
   ]
  },
  {
   "cell_type": "code",
   "execution_count": 68,
   "metadata": {},
   "outputs": [
    {
     "name": "stdout",
     "output_type": "stream",
     "text": [
      "Доверительный интервал для разности конверсий: (np.float64(0.6430677310768528), np.float64(0.7529322689231471))\n"
     ]
    }
   ],
   "source": [
    "from scipy.stats import norm\n",
    "\n",
    "def proportion_conf_interval(x_p, n, gamma=0.90):  \n",
    "    alpha = 1 - gamma # уровень значимости\n",
    "    z_crit = -norm.ppf(alpha/2) # z-критическое\n",
    "    eps = z_crit * (x_p * (1 - x_p) / n) ** 0.5 # погрешность\n",
    "    lower_bound = x_p - eps # левая (нижняя) граница\n",
    "    upper_bound = x_p + eps # правая (верхняя) граница\n",
    "    # возвращаем кортеж из границ интервала\n",
    "    return lower_bound, upper_bound\n",
    "\n",
    "\n",
    "lower_bound, upper_bound  = proportion_conf_interval(\n",
    "    x_p=0.698, # выборочная пропорция\n",
    "    n=189# размер выборки\n",
    ")\n",
    "print('Доверительный интервал для разности конверсий: {}'.format((lower_bound, upper_bound)))"
   ]
  },
  {
   "cell_type": "code",
   "execution_count": 69,
   "metadata": {},
   "outputs": [
    {
     "name": "stdout",
     "output_type": "stream",
     "text": [
      "Выборочная пропорция: 0.698\n",
      "Доверительный интервал: (np.float64(64.35), np.float64(75.33))\n"
     ]
    }
   ],
   "source": [
    "def proportion_conf_interval(x_p, n, gamma=0.95):  \n",
    "    alpha = 1 - gamma # уровень значимости\n",
    "    z_crit = -norm.ppf(alpha/2) # z-критическое\n",
    "    eps = z_crit * (x_p * (1 - x_p) / n) ** 0.5 #погрешность\n",
    "    lower_bound = x_p - eps # левая (нижняя) граница\n",
    "    upper_bound = x_p + eps # правая (верхняя) граница\n",
    "    # возвращаем кортеж из границ интервала\n",
    "    return lower_bound, upper_bound\n",
    "\n",
    "n = 189 # размер выборки\n",
    "n_positive = 132 # число положительных исходов\n",
    "x_p = n_positive/n # выборочная пропорция\n",
    "gamma = 0.9\n",
    "print('Выборочная пропорция: {}'.format(round(x_p, 3)))\n",
    "\n",
    "# строим доверительный интервал для пропорций\n",
    "lower_bound, upper_bound  = proportion_conf_interval(\n",
    "    x_p=x_p, # выборочная пропорция\n",
    "    n=n, # размер выборки\n",
    "    gamma=gamma # уровень надёжности\n",
    ")\n",
    "\n",
    "#выводим результат\n",
    "print('Доверительный интервал: {}'.format((round(lower_bound * 100, 2), round(upper_bound * 100, 2))))"
   ]
  },
  {
   "cell_type": "code",
   "execution_count": 4,
   "metadata": {},
   "outputs": [
    {
     "name": "stdout",
     "output_type": "stream",
     "text": [
      "Lower bound: -0.013642853504823256, Upper bound: 0.023642853504823265\n"
     ]
    }
   ],
   "source": [
    "from scipy.stats import norm\n",
    "\n",
    "def diff_proportion_conf_interval(x_p, n, gamma=0.95):\n",
    "    alpha = 1 - gamma  # уровень значимости\n",
    "    x_p = [x / n[i] for i, x in enumerate(x_p)]  # преобразование абсолютных значений в доли\n",
    "    diff = x_p[1] - x_p[0]  # выборочная разница конверсий групп B и A\n",
    "    z_crit = -norm.ppf(alpha / 2)  # z-критическое\n",
    "    eps = z_crit * (x_p[0] * (1 - x_p[0]) / n[0] + x_p[1] * (1 - x_p[1]) / n[1]) ** 0.5  # погрешность\n",
    "    lower_bound = diff - eps  # левая (нижняя) граница\n",
    "    upper_bound = diff + eps  # правая (верхняя) граница\n",
    "    # возвращаем кортеж из границ интервала\n",
    "    return lower_bound, upper_bound\n",
    "\n",
    "x_p = [45, 50]\n",
    "n = [1000, 1000]\n",
    "gamma = 0.95\n",
    "\n",
    "lower_bound, upper_bound = diff_proportion_conf_interval(x_p, n, gamma)\n",
    "print(f\"Lower bound: {lower_bound}, Upper bound: {upper_bound}\")"
   ]
  },
  {
   "cell_type": "code",
   "execution_count": 5,
   "metadata": {},
   "outputs": [
    {
     "name": "stdout",
     "output_type": "stream",
     "text": [
      "Доверительный интервал для разности конверсий: (np.float64(-1.36), np.float64(2.36))\n"
     ]
    }
   ],
   "source": [
    "def diff_proportion_conf_interval(x_p, n, gamma=0.95):\n",
    "    alpha = 1 - gamma # уровень значимости\n",
    "    diff = x_p[1] - x_p[0] # выборочная разница конверсий групп B и A\n",
    "    z_crit = -norm.ppf(alpha/2) #z-критическое\n",
    "    eps = z_crit * (x_p[0] * (1 - x_p[0])/n[0] + x_p[1] * (1 - x_p[1])/n[1]) ** 0.5 # погрешность\n",
    "    lower_bound = diff - eps # левая (нижняя) граница\n",
    "    upper_bound = diff + eps # правая (верхняя) граница\n",
    "    # возвращаем кортеж из  границ интервала\n",
    "    return lower_bound, upper_bound\n",
    "\n",
    "\n",
    "n = 1000 # размер выборки обеих групп\n",
    "n_positive_a = 45 # число пользователей, совершивших конверсию, в группе А\n",
    "n_positive_b = 50 # число пользователей, совершивших конверсию, в группе B\n",
    "xp_a = n_positive_a/n # выборочная пропорция группы A\n",
    "xp_b = n_positive_b/n # выборочная пропорция группы B\n",
    "\n",
    "\n",
    "# строим доверительный интервал для разности пропорций\n",
    "lower_bound, upper_bound = diff_proportion_conf_interval(\n",
    "    x_p=[xp_a, xp_b],\n",
    "    n=[n, n]\n",
    ")\n",
    "\n",
    "\n",
    "# выводим результат\n",
    "print('Доверительный интервал для разности конверсий: {}'.format((round(lower_bound*100, 2), round(upper_bound*100, 2))))"
   ]
  }
 ],
 "metadata": {
  "kernelspec": {
   "display_name": ".venv",
   "language": "python",
   "name": "python3"
  },
  "language_info": {
   "codemirror_mode": {
    "name": "ipython",
    "version": 3
   },
   "file_extension": ".py",
   "mimetype": "text/x-python",
   "name": "python",
   "nbconvert_exporter": "python",
   "pygments_lexer": "ipython3",
   "version": "3.12.3"
  }
 },
 "nbformat": 4,
 "nbformat_minor": 2
}
